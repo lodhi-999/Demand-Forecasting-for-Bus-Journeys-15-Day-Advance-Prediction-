{
 "cells": [
  {
   "cell_type": "code",
   "execution_count": 19,
   "id": "4021e120",
   "metadata": {},
   "outputs": [],
   "source": [
    "## Importing important Libraries\n",
    "import pandas as pd\n",
    "import numpy as np\n",
    "import matplotlib.pyplot as plt\n",
    "import seaborn as sns\n",
    "from sklearn.model_selection import train_test_split\n",
    "from sklearn.metrics import mean_squared_error\n",
    "from sklearn.ensemble import RandomForestRegressor\n",
    "from sklearn.linear_model import Ridge\n",
    "import lightgbm as lgb\n",
    "from sklearn.preprocessing import StandardScaler\n",
    "from lightgbm import LGBMRegressor\n",
    "from sklearn.metrics import mean_squared_error, r2_score"
   ]
  },
  {
   "cell_type": "code",
   "execution_count": 12,
   "id": "a1511535",
   "metadata": {},
   "outputs": [],
   "source": [
    "# Loading the Excel file\n",
    "train = pd.read_csv(\"train.csv\")\n",
    "test = pd.read_csv(\"test_8gqdJqH.csv\")\n",
    "transactions = pd.read_csv(\"transactions.csv\")"
   ]
  },
  {
   "cell_type": "code",
   "execution_count": 13,
   "id": "839f4132",
   "metadata": {},
   "outputs": [],
   "source": [
    "\n",
    "train['doj'] = pd.to_datetime(train['doj'])\n",
    "transactions['doj'] = pd.to_datetime(transactions['doj'])\n",
    "\n",
    "train_full = transactions[transactions['dbd'].between(0, 30)].copy()\n",
    "\n",
    "# Merge final seatcount target\n",
    "train_full = train_full.merge(train, on=['doj', 'srcid', 'destid'], how='inner')\n"
   ]
  },
  {
   "cell_type": "code",
   "execution_count": 15,
   "id": "9d65014a",
   "metadata": {},
   "outputs": [],
   "source": [
    "# 2. Feature Engineering\n",
    "# ---------------------------\n",
    "train_full['doj_day'] = train_full['doj'].dt.day\n",
    "train_full['doj_weekday'] = train_full['doj'].dt.weekday\n",
    "train_full['doj_month'] = train_full['doj'].dt.month\n",
    "train_full['doj_is_weekend'] = train_full['doj_weekday'].isin([5, 6]).astype(int)\n",
    "\n",
    "# Log transformation for stability\n",
    "train_full['log_cumsum_seatcount'] = np.log1p(train_full['cumsum_seatcount'])\n",
    "train_full['log_cumsum_searchcount'] = np.log1p(train_full['cumsum_searchcount'])\n",
    "train_full['booking_intensity'] = train_full['cumsum_seatcount'] / (train_full['cumsum_searchcount'] + 1)\n"
   ]
  },
  {
   "cell_type": "code",
   "execution_count": 16,
   "id": "4691f53a",
   "metadata": {},
   "outputs": [],
   "source": [
    "features = [\n",
    "    'srcid', 'destid', 'doj_day', 'doj_weekday', 'doj_month',\n",
    "    'doj_is_weekend', 'log_cumsum_seatcount', 'log_cumsum_searchcount',\n",
    "    'booking_intensity'  # Add other engineered features\n",
    "]\n",
    "\n",
    "\n",
    "X = train_full[features]\n",
    "y = train_full['final_seatcount']"
   ]
  },
  {
   "cell_type": "code",
   "execution_count": 17,
   "id": "4f050524",
   "metadata": {},
   "outputs": [
    {
     "name": "stdout",
     "output_type": "stream",
     "text": [
      "[LightGBM] [Info] Auto-choosing row-wise multi-threading, the overhead of testing was 0.008162 seconds.\n",
      "You can set `force_row_wise=true` to remove the overhead.\n",
      "And if memory is not enough, you can set `force_col_wise=true`.\n",
      "[LightGBM] [Info] Total Bins 912\n",
      "[LightGBM] [Info] Number of data points in the train set: 1666560, number of used features: 9\n",
      "[LightGBM] [Info] Start training from score 7.434467\n"
     ]
    }
   ],
   "source": [
    "# Optional scaling (for Ridge)\n",
    "scaler = StandardScaler()\n",
    "X_scaled = scaler.fit_transform(X)\n",
    "\n",
    "X_train, X_val, y_train, y_val = train_test_split(X_scaled, y, test_size=0.2, random_state=42)\n",
    "\n",
    "# ---------------------------\n",
    "# 2. Stage 1: LightGBM Base Model\n",
    "# ---------------------------\n",
    "lgb_model = LGBMRegressor(\n",
    "    learning_rate=0.05,\n",
    "    n_estimators=500,\n",
    "    max_depth=10,\n",
    "    num_leaves=40,\n",
    "    subsample=0.8,\n",
    "    colsample_bytree=0.8,\n",
    "    random_state=42\n",
    ")\n",
    "lgb_model.fit(X_train, np.log1p(y_train))\n",
    "\n",
    "lgb_train_preds = np.expm1(lgb_model.predict(X_train))\n",
    "lgb_val_preds = np.expm1(lgb_model.predict(X_val))\n",
    "\n",
    "# ---------------------------\n",
    "# 3. Stage 2: Residual Model (Ridge on residuals)\n",
    "# ---------------------------\n",
    "residuals_train = y_train - lgb_train_preds\n",
    "ridge = Ridge(alpha=1.0)\n",
    "ridge.fit(X_train, residuals_train)\n",
    "\n",
    "residuals_val_preds = ridge.predict(X_val)\n",
    "\n",
    "# ---------------------------"
   ]
  },
  {
   "cell_type": "code",
   "execution_count": 35,
   "id": "f82ff1f7",
   "metadata": {},
   "outputs": [
    {
     "name": "stdout",
     "output_type": "stream",
     "text": [
      " Enhanced Residual Modeling RMSE: 560.83\n",
      " Enhanced Residual Modeling R²: 0.7805\n"
     ]
    }
   ],
   "source": [
    "# ---------------------------\n",
    "# 4. Combine predictions\n",
    "# ---------------------------\n",
    "final_val_preds = lgb_val_preds + residuals_val_preds\n",
    "\n",
    "# ---------------------------\n",
    "# 5. Evaluate final result\n",
    "# ---------------------------\n",
    "rmse = np.sqrt(mean_squared_error(y_val, final_val_preds))\n",
    "r2 = r2_score(y_val, final_val_preds)\n",
    "\n",
    "print(f\" Enhanced Residual Modeling RMSE: {rmse:.2f}\")\n",
    "print(f\" Enhanced Residual Modeling R²: {r2:.4f}\")"
   ]
  },
  {
   "cell_type": "code",
   "execution_count": null,
   "id": "b48416d1",
   "metadata": {},
   "outputs": [],
   "source": []
  },
  {
   "cell_type": "code",
   "execution_count": 36,
   "id": "c9958185",
   "metadata": {},
   "outputs": [],
   "source": [
    "# ---------------------------\n",
    "# 5. Predict on test dbd = 15\n",
    "# ---------------------------\n",
    "test_15 = transactions[transactions['dbd'] == 15].copy()\n",
    "test_15['doj'] = pd.to_datetime(test_15['doj'])\n",
    "\n",
    "# Apply same features\n",
    "test_15['doj_day'] = test_15['doj'].dt.day\n",
    "test_15['doj_weekday'] = test_15['doj'].dt.weekday\n",
    "test_15['doj_month'] = test_15['doj'].dt.month\n",
    "test_15['doj_is_weekend'] = test_15['doj_weekday'].isin([5, 6]).astype(int)\n",
    "test_15['log_cumsum_seatcount'] = np.log1p(test_15['cumsum_seatcount'])\n",
    "test_15['log_cumsum_searchcount'] = np.log1p(test_15['cumsum_searchcount'])\n",
    "test_15['booking_intensity'] = test_15['cumsum_seatcount'] / (test_15['cumsum_searchcount'] + 1)\n",
    "# Re-creating route_key if missing\n",
    "test_15['route_key'] = test_15['doj'].dt.strftime('%Y-%m-%d') + '_' + test_15['srcid'].astype(str) + '_' + test_15['destid'].astype(str)\n"
   ]
  },
  {
   "cell_type": "code",
   "execution_count": 37,
   "id": "57990158",
   "metadata": {},
   "outputs": [],
   "source": [
    "# 6. Predict on test data\n",
    "# ---------------------------\n",
    "X_test = test_15[features].copy()\n",
    "X_test_scaled = scaler.transform(X_test)\n",
    "\n",
    "lgb_test_preds = np.expm1(lgb_model.predict(X_test_scaled))\n",
    "ridge_test_residuals = ridge.predict(X_test_scaled)\n",
    "final_test_preds = lgb_test_preds + ridge_test_residuals\n"
   ]
  },
  {
   "cell_type": "code",
   "execution_count": 38,
   "id": "7b19f4f7",
   "metadata": {},
   "outputs": [],
   "source": [
    "# Post-process predictions\n",
    "final_test_preds = np.clip(np.round(final_test_preds), 0, None)\n",
    "test_15['final_seatcount'] = final_test_preds.astype(int)\n",
    "\n",
    "\n",
    "\n",
    "sample = pd.read_csv('sample_submission.csv') \n",
    "# Ensuring yur prediction DataFrame known as 'submission' and 'sample' has the same column names\n",
    "submission = sample.copy()\n",
    "\n",
    "preds = test_15.groupby('route_key', as_index=False)['final_seatcount'].mean()\n",
    "\n",
    "# Merging cleanly into the sample\n",
    "submission = sample.merge(preds, on='route_key', how='left')\n",
    "\n",
    "\n",
    "\n"
   ]
  },
  {
   "cell_type": "code",
   "execution_count": 39,
   "id": "b595ca32",
   "metadata": {},
   "outputs": [
    {
     "data": {
      "text/html": [
       "<div>\n",
       "<style scoped>\n",
       "    .dataframe tbody tr th:only-of-type {\n",
       "        vertical-align: middle;\n",
       "    }\n",
       "\n",
       "    .dataframe tbody tr th {\n",
       "        vertical-align: top;\n",
       "    }\n",
       "\n",
       "    .dataframe thead th {\n",
       "        text-align: right;\n",
       "    }\n",
       "</style>\n",
       "<table border=\"1\" class=\"dataframe\">\n",
       "  <thead>\n",
       "    <tr style=\"text-align: right;\">\n",
       "      <th></th>\n",
       "      <th>route_key</th>\n",
       "      <th>final_seatcount_x</th>\n",
       "      <th>final_seatcount_y</th>\n",
       "    </tr>\n",
       "  </thead>\n",
       "  <tbody>\n",
       "    <tr>\n",
       "      <th>0</th>\n",
       "      <td>2025-02-11_46_45</td>\n",
       "      <td>0</td>\n",
       "      <td>3474.0</td>\n",
       "    </tr>\n",
       "    <tr>\n",
       "      <th>1</th>\n",
       "      <td>2025-01-20_17_23</td>\n",
       "      <td>0</td>\n",
       "      <td>1312.0</td>\n",
       "    </tr>\n",
       "    <tr>\n",
       "      <th>2</th>\n",
       "      <td>2025-01-08_02_14</td>\n",
       "      <td>0</td>\n",
       "      <td>NaN</td>\n",
       "    </tr>\n",
       "    <tr>\n",
       "      <th>3</th>\n",
       "      <td>2025-01-08_08_47</td>\n",
       "      <td>0</td>\n",
       "      <td>NaN</td>\n",
       "    </tr>\n",
       "    <tr>\n",
       "      <th>4</th>\n",
       "      <td>2025-01-08_09_46</td>\n",
       "      <td>0</td>\n",
       "      <td>NaN</td>\n",
       "    </tr>\n",
       "  </tbody>\n",
       "</table>\n",
       "</div>"
      ],
      "text/plain": [
       "          route_key  final_seatcount_x  final_seatcount_y\n",
       "0  2025-02-11_46_45                  0             3474.0\n",
       "1  2025-01-20_17_23                  0             1312.0\n",
       "2  2025-01-08_02_14                  0                NaN\n",
       "3  2025-01-08_08_47                  0                NaN\n",
       "4  2025-01-08_09_46                  0                NaN"
      ]
     },
     "execution_count": 39,
     "metadata": {},
     "output_type": "execute_result"
    }
   ],
   "source": [
    "submission.head()"
   ]
  },
  {
   "cell_type": "code",
   "execution_count": null,
   "id": "8153bf6e",
   "metadata": {},
   "outputs": [],
   "source": []
  },
  {
   "cell_type": "code",
   "execution_count": 40,
   "id": "1d75a861",
   "metadata": {},
   "outputs": [
    {
     "name": "stdout",
     "output_type": "stream",
     "text": [
      " Submission file 5 saved.\n"
     ]
    }
   ],
   "source": [
    "submission['final_seatcount'] = submission['final_seatcount_y']\n",
    "submission['final_seatcount'] = submission['final_seatcount'].fillna(0)\n",
    "submission['final_seatcount'] = submission['final_seatcount'].round().astype(int)\n",
    "# Dropping extra columns\n",
    "submission = submission[['route_key', 'final_seatcount']]\n",
    "\n",
    "\n",
    "submission.to_csv('submission 5.csv', index=False)\n",
    "print(\" Submission file 5 saved.\")"
   ]
  },
  {
   "cell_type": "code",
   "execution_count": null,
   "id": "41ad37bf",
   "metadata": {},
   "outputs": [],
   "source": []
  },
  {
   "cell_type": "code",
   "execution_count": null,
   "id": "1060c0c8",
   "metadata": {},
   "outputs": [],
   "source": []
  },
  {
   "cell_type": "code",
   "execution_count": null,
   "id": "3cbd2580",
   "metadata": {},
   "outputs": [],
   "source": []
  },
  {
   "cell_type": "code",
   "execution_count": null,
   "id": "4e715352",
   "metadata": {},
   "outputs": [],
   "source": []
  },
  {
   "cell_type": "code",
   "execution_count": null,
   "id": "cd874658",
   "metadata": {},
   "outputs": [],
   "source": []
  }
 ],
 "metadata": {
  "kernelspec": {
   "display_name": "Python 3",
   "language": "python",
   "name": "python3"
  },
  "language_info": {
   "codemirror_mode": {
    "name": "ipython",
    "version": 3
   },
   "file_extension": ".py",
   "mimetype": "text/x-python",
   "name": "python",
   "nbconvert_exporter": "python",
   "pygments_lexer": "ipython3",
   "version": "3.10.0"
  }
 },
 "nbformat": 4,
 "nbformat_minor": 5
}
