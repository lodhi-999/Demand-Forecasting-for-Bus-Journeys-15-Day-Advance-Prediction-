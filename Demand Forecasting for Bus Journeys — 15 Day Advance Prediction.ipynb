{
 "cells": [
  {
   "cell_type": "markdown",
   "id": "c21ef4eb",
   "metadata": {},
   "source": [
    "# ------------------------\n",
    "#  Project Overview\n",
    "# -----------------------\n",
    "# This Project tackles the challenge of forecasting bus seat demand 15 days before the date of journey. We use historical booking and search data to engineer meaningful features, build predictive models, and evaluate them using RMSE."
   ]
  },
  {
   "cell_type": "code",
   "execution_count": 1,
   "id": "f13d0ba2",
   "metadata": {},
   "outputs": [],
   "source": [
    "## Importing important Libraries\n",
    "import pandas as pd\n",
    "import numpy as np\n",
    "import matplotlib.pyplot as plt\n",
    "import seaborn as sns"
   ]
  },
  {
   "cell_type": "code",
   "execution_count": 2,
   "id": "89dccb58",
   "metadata": {},
   "outputs": [],
   "source": [
    "from sklearn.model_selection import train_test_split\n",
    "from sklearn.metrics import mean_squared_error\n",
    "from sklearn.ensemble import RandomForestRegressor\n",
    "from sklearn.linear_model import Ridge\n",
    "import lightgbm as lgb"
   ]
  },
  {
   "cell_type": "code",
   "execution_count": 3,
   "id": "248f2331",
   "metadata": {},
   "outputs": [],
   "source": [
    "\n",
    "\n",
    "# Loading the Excel file\n",
    "train = pd.read_csv(\"train.csv\")\n",
    "test = pd.read_csv(\"test_8gqdJqH.csv\")\n",
    "transactions = pd.read_csv(\"transactions.csv\")\n"
   ]
  },
  {
   "cell_type": "code",
   "execution_count": 4,
   "id": "81cb731a",
   "metadata": {},
   "outputs": [
    {
     "data": {
      "text/plain": [
       "(67200, 4)"
      ]
     },
     "execution_count": 4,
     "metadata": {},
     "output_type": "execute_result"
    }
   ],
   "source": [
    "train.shape"
   ]
  },
  {
   "cell_type": "code",
   "execution_count": 5,
   "id": "bd117cee",
   "metadata": {},
   "outputs": [
    {
     "data": {
      "text/plain": [
       "(2266100, 11)"
      ]
     },
     "execution_count": 5,
     "metadata": {},
     "output_type": "execute_result"
    }
   ],
   "source": [
    "transactions.shape"
   ]
  },
  {
   "cell_type": "code",
   "execution_count": 6,
   "id": "0d0926ef",
   "metadata": {},
   "outputs": [
    {
     "data": {
      "text/plain": [
       "(5900, 4)"
      ]
     },
     "execution_count": 6,
     "metadata": {},
     "output_type": "execute_result"
    }
   ],
   "source": [
    "test.shape"
   ]
  },
  {
   "cell_type": "code",
   "execution_count": 7,
   "id": "2a6a02dc",
   "metadata": {},
   "outputs": [
    {
     "data": {
      "text/html": [
       "<div>\n",
       "<style scoped>\n",
       "    .dataframe tbody tr th:only-of-type {\n",
       "        vertical-align: middle;\n",
       "    }\n",
       "\n",
       "    .dataframe tbody tr th {\n",
       "        vertical-align: top;\n",
       "    }\n",
       "\n",
       "    .dataframe thead th {\n",
       "        text-align: right;\n",
       "    }\n",
       "</style>\n",
       "<table border=\"1\" class=\"dataframe\">\n",
       "  <thead>\n",
       "    <tr style=\"text-align: right;\">\n",
       "      <th></th>\n",
       "      <th>doj</th>\n",
       "      <th>doi</th>\n",
       "      <th>srcid</th>\n",
       "      <th>destid</th>\n",
       "      <th>srcid_region</th>\n",
       "      <th>destid_region</th>\n",
       "      <th>srcid_tier</th>\n",
       "      <th>destid_tier</th>\n",
       "      <th>cumsum_seatcount</th>\n",
       "      <th>cumsum_searchcount</th>\n",
       "      <th>dbd</th>\n",
       "    </tr>\n",
       "  </thead>\n",
       "  <tbody>\n",
       "    <tr>\n",
       "      <th>0</th>\n",
       "      <td>2023-03-01</td>\n",
       "      <td>2023-01-30</td>\n",
       "      <td>45</td>\n",
       "      <td>46</td>\n",
       "      <td>Karnataka</td>\n",
       "      <td>Tamil Nadu</td>\n",
       "      <td>Tier 1</td>\n",
       "      <td>Tier 1</td>\n",
       "      <td>8.0</td>\n",
       "      <td>76.0</td>\n",
       "      <td>30</td>\n",
       "    </tr>\n",
       "    <tr>\n",
       "      <th>1</th>\n",
       "      <td>2023-03-01</td>\n",
       "      <td>2023-01-30</td>\n",
       "      <td>46</td>\n",
       "      <td>45</td>\n",
       "      <td>Tamil Nadu</td>\n",
       "      <td>Karnataka</td>\n",
       "      <td>Tier 1</td>\n",
       "      <td>Tier 1</td>\n",
       "      <td>8.0</td>\n",
       "      <td>70.0</td>\n",
       "      <td>30</td>\n",
       "    </tr>\n",
       "    <tr>\n",
       "      <th>2</th>\n",
       "      <td>2023-03-01</td>\n",
       "      <td>2023-01-30</td>\n",
       "      <td>45</td>\n",
       "      <td>47</td>\n",
       "      <td>Karnataka</td>\n",
       "      <td>Andhra Pradesh</td>\n",
       "      <td>Tier 1</td>\n",
       "      <td>Tier 1</td>\n",
       "      <td>4.0</td>\n",
       "      <td>142.0</td>\n",
       "      <td>30</td>\n",
       "    </tr>\n",
       "    <tr>\n",
       "      <th>3</th>\n",
       "      <td>2023-03-01</td>\n",
       "      <td>2023-01-30</td>\n",
       "      <td>47</td>\n",
       "      <td>45</td>\n",
       "      <td>Andhra Pradesh</td>\n",
       "      <td>Karnataka</td>\n",
       "      <td>Tier 1</td>\n",
       "      <td>Tier 1</td>\n",
       "      <td>0.0</td>\n",
       "      <td>68.0</td>\n",
       "      <td>30</td>\n",
       "    </tr>\n",
       "    <tr>\n",
       "      <th>4</th>\n",
       "      <td>2023-03-01</td>\n",
       "      <td>2023-01-30</td>\n",
       "      <td>46</td>\n",
       "      <td>9</td>\n",
       "      <td>Tamil Nadu</td>\n",
       "      <td>Tamil Nadu</td>\n",
       "      <td>Tier 1</td>\n",
       "      <td>Tier2</td>\n",
       "      <td>9.0</td>\n",
       "      <td>162.0</td>\n",
       "      <td>30</td>\n",
       "    </tr>\n",
       "    <tr>\n",
       "      <th>5</th>\n",
       "      <td>2023-03-01</td>\n",
       "      <td>2023-01-30</td>\n",
       "      <td>9</td>\n",
       "      <td>46</td>\n",
       "      <td>Tamil Nadu</td>\n",
       "      <td>Tamil Nadu</td>\n",
       "      <td>Tier2</td>\n",
       "      <td>Tier 1</td>\n",
       "      <td>0.0</td>\n",
       "      <td>63.0</td>\n",
       "      <td>30</td>\n",
       "    </tr>\n",
       "    <tr>\n",
       "      <th>6</th>\n",
       "      <td>2023-03-01</td>\n",
       "      <td>2023-01-30</td>\n",
       "      <td>46</td>\n",
       "      <td>48</td>\n",
       "      <td>Tamil Nadu</td>\n",
       "      <td>Tamil Nadu</td>\n",
       "      <td>Tier 1</td>\n",
       "      <td>Tier2</td>\n",
       "      <td>0.0</td>\n",
       "      <td>309.0</td>\n",
       "      <td>30</td>\n",
       "    </tr>\n",
       "    <tr>\n",
       "      <th>7</th>\n",
       "      <td>2023-03-01</td>\n",
       "      <td>2023-01-30</td>\n",
       "      <td>48</td>\n",
       "      <td>46</td>\n",
       "      <td>Tamil Nadu</td>\n",
       "      <td>Tamil Nadu</td>\n",
       "      <td>Tier2</td>\n",
       "      <td>Tier 1</td>\n",
       "      <td>0.0</td>\n",
       "      <td>165.0</td>\n",
       "      <td>30</td>\n",
       "    </tr>\n",
       "  </tbody>\n",
       "</table>\n",
       "</div>"
      ],
      "text/plain": [
       "          doj         doi  srcid  destid    srcid_region   destid_region  \\\n",
       "0  2023-03-01  2023-01-30     45      46       Karnataka      Tamil Nadu   \n",
       "1  2023-03-01  2023-01-30     46      45      Tamil Nadu       Karnataka   \n",
       "2  2023-03-01  2023-01-30     45      47       Karnataka  Andhra Pradesh   \n",
       "3  2023-03-01  2023-01-30     47      45  Andhra Pradesh       Karnataka   \n",
       "4  2023-03-01  2023-01-30     46       9      Tamil Nadu      Tamil Nadu   \n",
       "5  2023-03-01  2023-01-30      9      46      Tamil Nadu      Tamil Nadu   \n",
       "6  2023-03-01  2023-01-30     46      48      Tamil Nadu      Tamil Nadu   \n",
       "7  2023-03-01  2023-01-30     48      46      Tamil Nadu      Tamil Nadu   \n",
       "\n",
       "  srcid_tier destid_tier  cumsum_seatcount  cumsum_searchcount  dbd  \n",
       "0     Tier 1      Tier 1               8.0                76.0   30  \n",
       "1     Tier 1      Tier 1               8.0                70.0   30  \n",
       "2     Tier 1      Tier 1               4.0               142.0   30  \n",
       "3     Tier 1      Tier 1               0.0                68.0   30  \n",
       "4     Tier 1       Tier2               9.0               162.0   30  \n",
       "5      Tier2      Tier 1               0.0                63.0   30  \n",
       "6     Tier 1       Tier2               0.0               309.0   30  \n",
       "7      Tier2      Tier 1               0.0               165.0   30  "
      ]
     },
     "execution_count": 7,
     "metadata": {},
     "output_type": "execute_result"
    }
   ],
   "source": [
    "transactions.head(8)"
   ]
  },
  {
   "cell_type": "code",
   "execution_count": 8,
   "id": "ce660e23",
   "metadata": {},
   "outputs": [
    {
     "data": {
      "text/plain": [
       "array([30, 29, 28, 27, 26, 25, 24, 23, 22, 21, 20, 19, 18, 17, 16, 15, 14,\n",
       "       13, 12, 11, 10,  9,  8,  7,  6,  5,  4,  3,  2,  1,  0])"
      ]
     },
     "execution_count": 8,
     "metadata": {},
     "output_type": "execute_result"
    }
   ],
   "source": [
    "transactions['dbd'].unique()"
   ]
  },
  {
   "cell_type": "code",
   "execution_count": 9,
   "id": "d855dafb",
   "metadata": {},
   "outputs": [
    {
     "name": "stdout",
     "output_type": "stream",
     "text": [
      "<class 'pandas.core.frame.DataFrame'>\n",
      "RangeIndex: 2266100 entries, 0 to 2266099\n",
      "Data columns (total 11 columns):\n",
      " #   Column              Dtype  \n",
      "---  ------              -----  \n",
      " 0   doj                 object \n",
      " 1   doi                 object \n",
      " 2   srcid               int64  \n",
      " 3   destid              int64  \n",
      " 4   srcid_region        object \n",
      " 5   destid_region       object \n",
      " 6   srcid_tier          object \n",
      " 7   destid_tier         object \n",
      " 8   cumsum_seatcount    float64\n",
      " 9   cumsum_searchcount  float64\n",
      " 10  dbd                 int64  \n",
      "dtypes: float64(2), int64(3), object(6)\n",
      "memory usage: 190.2+ MB\n"
     ]
    }
   ],
   "source": [
    "transactions.info()"
   ]
  },
  {
   "cell_type": "code",
   "execution_count": 10,
   "id": "08b1a238",
   "metadata": {},
   "outputs": [
    {
     "name": "stdout",
     "output_type": "stream",
     "text": [
      "doj                0\n",
      "srcid              0\n",
      "destid             0\n",
      "final_seatcount    0\n",
      "dtype: int64\n",
      "doj                   0\n",
      "doi                   0\n",
      "srcid                 0\n",
      "destid                0\n",
      "srcid_region          0\n",
      "destid_region         0\n",
      "srcid_tier            0\n",
      "destid_tier           0\n",
      "cumsum_seatcount      0\n",
      "cumsum_searchcount    0\n",
      "dbd                   0\n",
      "dtype: int64\n"
     ]
    }
   ],
   "source": [
    "print(train.isnull().sum())\n",
    "print(transactions.isnull().sum())"
   ]
  },
  {
   "cell_type": "code",
   "execution_count": 11,
   "id": "b8a35fb5",
   "metadata": {},
   "outputs": [
    {
     "data": {
      "text/html": [
       "<div>\n",
       "<style scoped>\n",
       "    .dataframe tbody tr th:only-of-type {\n",
       "        vertical-align: middle;\n",
       "    }\n",
       "\n",
       "    .dataframe tbody tr th {\n",
       "        vertical-align: top;\n",
       "    }\n",
       "\n",
       "    .dataframe thead th {\n",
       "        text-align: right;\n",
       "    }\n",
       "</style>\n",
       "<table border=\"1\" class=\"dataframe\">\n",
       "  <thead>\n",
       "    <tr style=\"text-align: right;\">\n",
       "      <th></th>\n",
       "      <th>doj</th>\n",
       "      <th>srcid</th>\n",
       "      <th>destid</th>\n",
       "      <th>final_seatcount</th>\n",
       "    </tr>\n",
       "  </thead>\n",
       "  <tbody>\n",
       "    <tr>\n",
       "      <th>0</th>\n",
       "      <td>2023-03-01</td>\n",
       "      <td>45</td>\n",
       "      <td>46</td>\n",
       "      <td>2838.0</td>\n",
       "    </tr>\n",
       "    <tr>\n",
       "      <th>1</th>\n",
       "      <td>2023-03-01</td>\n",
       "      <td>46</td>\n",
       "      <td>45</td>\n",
       "      <td>2298.0</td>\n",
       "    </tr>\n",
       "    <tr>\n",
       "      <th>2</th>\n",
       "      <td>2023-03-01</td>\n",
       "      <td>45</td>\n",
       "      <td>47</td>\n",
       "      <td>2720.0</td>\n",
       "    </tr>\n",
       "    <tr>\n",
       "      <th>3</th>\n",
       "      <td>2023-03-01</td>\n",
       "      <td>47</td>\n",
       "      <td>45</td>\n",
       "      <td>2580.0</td>\n",
       "    </tr>\n",
       "    <tr>\n",
       "      <th>4</th>\n",
       "      <td>2023-03-01</td>\n",
       "      <td>46</td>\n",
       "      <td>9</td>\n",
       "      <td>4185.0</td>\n",
       "    </tr>\n",
       "    <tr>\n",
       "      <th>5</th>\n",
       "      <td>2023-03-01</td>\n",
       "      <td>9</td>\n",
       "      <td>46</td>\n",
       "      <td>3273.0</td>\n",
       "    </tr>\n",
       "    <tr>\n",
       "      <th>6</th>\n",
       "      <td>2023-03-01</td>\n",
       "      <td>46</td>\n",
       "      <td>48</td>\n",
       "      <td>4959.0</td>\n",
       "    </tr>\n",
       "    <tr>\n",
       "      <th>7</th>\n",
       "      <td>2023-03-01</td>\n",
       "      <td>48</td>\n",
       "      <td>46</td>\n",
       "      <td>3378.0</td>\n",
       "    </tr>\n",
       "  </tbody>\n",
       "</table>\n",
       "</div>"
      ],
      "text/plain": [
       "          doj  srcid  destid  final_seatcount\n",
       "0  2023-03-01     45      46           2838.0\n",
       "1  2023-03-01     46      45           2298.0\n",
       "2  2023-03-01     45      47           2720.0\n",
       "3  2023-03-01     47      45           2580.0\n",
       "4  2023-03-01     46       9           4185.0\n",
       "5  2023-03-01      9      46           3273.0\n",
       "6  2023-03-01     46      48           4959.0\n",
       "7  2023-03-01     48      46           3378.0"
      ]
     },
     "execution_count": 11,
     "metadata": {},
     "output_type": "execute_result"
    }
   ],
   "source": [
    "train.head(8)"
   ]
  },
  {
   "cell_type": "code",
   "execution_count": 12,
   "id": "26218fff",
   "metadata": {},
   "outputs": [
    {
     "name": "stdout",
     "output_type": "stream",
     "text": [
      "<class 'pandas.core.frame.DataFrame'>\n",
      "RangeIndex: 67200 entries, 0 to 67199\n",
      "Data columns (total 4 columns):\n",
      " #   Column           Non-Null Count  Dtype  \n",
      "---  ------           --------------  -----  \n",
      " 0   doj              67200 non-null  object \n",
      " 1   srcid            67200 non-null  int64  \n",
      " 2   destid           67200 non-null  int64  \n",
      " 3   final_seatcount  67200 non-null  float64\n",
      "dtypes: float64(1), int64(2), object(1)\n",
      "memory usage: 2.1+ MB\n"
     ]
    }
   ],
   "source": [
    "train.info()"
   ]
  },
  {
   "cell_type": "code",
   "execution_count": 13,
   "id": "a7d5858e",
   "metadata": {},
   "outputs": [
    {
     "data": {
      "text/html": [
       "<div>\n",
       "<style scoped>\n",
       "    .dataframe tbody tr th:only-of-type {\n",
       "        vertical-align: middle;\n",
       "    }\n",
       "\n",
       "    .dataframe tbody tr th {\n",
       "        vertical-align: top;\n",
       "    }\n",
       "\n",
       "    .dataframe thead th {\n",
       "        text-align: right;\n",
       "    }\n",
       "</style>\n",
       "<table border=\"1\" class=\"dataframe\">\n",
       "  <thead>\n",
       "    <tr style=\"text-align: right;\">\n",
       "      <th></th>\n",
       "      <th>route_key</th>\n",
       "      <th>doj</th>\n",
       "      <th>srcid</th>\n",
       "      <th>destid</th>\n",
       "    </tr>\n",
       "  </thead>\n",
       "  <tbody>\n",
       "    <tr>\n",
       "      <th>0</th>\n",
       "      <td>2025-02-11_46_45</td>\n",
       "      <td>2025-02-11</td>\n",
       "      <td>46</td>\n",
       "      <td>45</td>\n",
       "    </tr>\n",
       "    <tr>\n",
       "      <th>1</th>\n",
       "      <td>2025-01-20_17_23</td>\n",
       "      <td>2025-01-20</td>\n",
       "      <td>17</td>\n",
       "      <td>23</td>\n",
       "    </tr>\n",
       "    <tr>\n",
       "      <th>2</th>\n",
       "      <td>2025-01-08_02_14</td>\n",
       "      <td>2025-01-08</td>\n",
       "      <td>2</td>\n",
       "      <td>14</td>\n",
       "    </tr>\n",
       "    <tr>\n",
       "      <th>3</th>\n",
       "      <td>2025-01-08_08_47</td>\n",
       "      <td>2025-01-08</td>\n",
       "      <td>8</td>\n",
       "      <td>47</td>\n",
       "    </tr>\n",
       "    <tr>\n",
       "      <th>4</th>\n",
       "      <td>2025-01-08_09_46</td>\n",
       "      <td>2025-01-08</td>\n",
       "      <td>9</td>\n",
       "      <td>46</td>\n",
       "    </tr>\n",
       "  </tbody>\n",
       "</table>\n",
       "</div>"
      ],
      "text/plain": [
       "          route_key         doj  srcid  destid\n",
       "0  2025-02-11_46_45  2025-02-11     46      45\n",
       "1  2025-01-20_17_23  2025-01-20     17      23\n",
       "2  2025-01-08_02_14  2025-01-08      2      14\n",
       "3  2025-01-08_08_47  2025-01-08      8      47\n",
       "4  2025-01-08_09_46  2025-01-08      9      46"
      ]
     },
     "execution_count": 13,
     "metadata": {},
     "output_type": "execute_result"
    }
   ],
   "source": [
    "test.head()"
   ]
  },
  {
   "cell_type": "code",
   "execution_count": 14,
   "id": "c6e63fc8",
   "metadata": {},
   "outputs": [
    {
     "name": "stdout",
     "output_type": "stream",
     "text": [
      "<class 'pandas.core.frame.DataFrame'>\n",
      "RangeIndex: 5900 entries, 0 to 5899\n",
      "Data columns (total 4 columns):\n",
      " #   Column     Non-Null Count  Dtype \n",
      "---  ------     --------------  ----- \n",
      " 0   route_key  5900 non-null   object\n",
      " 1   doj        5900 non-null   object\n",
      " 2   srcid      5900 non-null   int64 \n",
      " 3   destid     5900 non-null   int64 \n",
      "dtypes: int64(2), object(2)\n",
      "memory usage: 184.5+ KB\n"
     ]
    }
   ],
   "source": [
    "test.info()"
   ]
  },
  {
   "cell_type": "code",
   "execution_count": 15,
   "id": "10f33aa5",
   "metadata": {},
   "outputs": [],
   "source": [
    "# Converting dates\n",
    "for df in [train, test, transactions]:\n",
    "    df['doj'] = pd.to_datetime(df['doj'])\n",
    "    if 'doi' in df.columns:\n",
    "        df['doi'] = pd.to_datetime(df['doi'])\n",
    "   "
   ]
  },
  {
   "cell_type": "code",
   "execution_count": 16,
   "id": "7e325120",
   "metadata": {},
   "outputs": [
    {
     "data": {
      "image/png": "[encoded data removed]",
      "text/plain": [
       "<Figure size 800x600 with 1 Axes>"
      ]
     },
     "metadata": {},
     "output_type": "display_data"
    }
   ],
   "source": [
    "# Quick plot: demand distribution\n",
    "plt.figure(figsize=(8,6))\n",
    "sns.histplot(train['final_seatcount'], kde=True)\n",
    "plt.title(\"Seat Count Distribution\")\n",
    "plt.show()"
   ]
  },
  {
   "cell_type": "code",
   "execution_count": 17,
   "id": "f466badb",
   "metadata": {},
   "outputs": [],
   "source": [
    "# Extracting date parts from DOJ\n",
    "for df in [train, test, transactions]:\n",
    "    df['doj_day'] = df['doj'].dt.day\n",
    "    df['doj_weekday'] = df['doj'].dt.weekday\n",
    "    df['doj_month'] = df['doj'].dt.month\n",
    "    df['doj_is_weekend'] = df['doj'].dt.weekday.isin([5,6]).astype(int)"
   ]
  },
  {
   "cell_type": "markdown",
   "id": "bbad95a5",
   "metadata": {},
   "source": [
    "## ------------------\n",
    "## Data Preparation\n",
    "## ------------------\n",
    "## We filtered transaction data to include rows where `dbd == 15` "
   ]
  },
  {
   "cell_type": "code",
   "execution_count": 18,
   "id": "e278e7c1",
   "metadata": {},
   "outputs": [],
   "source": [
    "trans_15 = transactions[transactions['dbd'] == 15]"
   ]
  },
  {
   "cell_type": "code",
   "execution_count": 19,
   "id": "3f6890bf",
   "metadata": {},
   "outputs": [
    {
     "data": {
      "text/plain": [
       "(73100, 15)"
      ]
     },
     "execution_count": 19,
     "metadata": {},
     "output_type": "execute_result"
    }
   ],
   "source": [
    "trans_15.shape"
   ]
  },
  {
   "cell_type": "code",
   "execution_count": 20,
   "id": "7ba8e498",
   "metadata": {},
   "outputs": [],
   "source": [
    "# Aggregating for matching with test\n",
    "trans_agg = trans_15.groupby(['doj','srcid','destid']).agg({\n",
    "    'cumsum_seatcount': 'sum',\n",
    "    'cumsum_searchcount': 'sum'\n",
    "}).reset_index()"
   ]
  },
  {
   "cell_type": "code",
   "execution_count": 22,
   "id": "0a51c7f0",
   "metadata": {},
   "outputs": [],
   "source": [
    "# Creating route_key for joining\n",
    "trans_agg['route_key'] = trans_agg['doj'].astype(str) + \"_\" + \\\n",
    "                         trans_agg['srcid'].astype(str) + \"_\" + \\\n",
    "                         trans_agg['destid'].astype(str)"
   ]
  },
  {
   "cell_type": "code",
   "execution_count": 23,
   "id": "a896bf65",
   "metadata": {},
   "outputs": [
    {
     "data": {
      "text/html": [
       "<div>\n",
       "<style scoped>\n",
       "    .dataframe tbody tr th:only-of-type {\n",
       "        vertical-align: middle;\n",
       "    }\n",
       "\n",
       "    .dataframe tbody tr th {\n",
       "        vertical-align: top;\n",
       "    }\n",
       "\n",
       "    .dataframe thead th {\n",
       "        text-align: right;\n",
       "    }\n",
       "</style>\n",
       "<table border=\"1\" class=\"dataframe\">\n",
       "  <thead>\n",
       "    <tr style=\"text-align: right;\">\n",
       "      <th></th>\n",
       "      <th>doj</th>\n",
       "      <th>srcid</th>\n",
       "      <th>destid</th>\n",
       "      <th>cumsum_seatcount</th>\n",
       "      <th>cumsum_searchcount</th>\n",
       "      <th>route_key</th>\n",
       "    </tr>\n",
       "  </thead>\n",
       "  <tbody>\n",
       "    <tr>\n",
       "      <th>0</th>\n",
       "      <td>2023-03-01</td>\n",
       "      <td>1</td>\n",
       "      <td>2</td>\n",
       "      <td>0.0</td>\n",
       "      <td>90.0</td>\n",
       "      <td>2023-03-01_1_2</td>\n",
       "    </tr>\n",
       "    <tr>\n",
       "      <th>1</th>\n",
       "      <td>2023-03-01</td>\n",
       "      <td>2</td>\n",
       "      <td>1</td>\n",
       "      <td>0.0</td>\n",
       "      <td>225.0</td>\n",
       "      <td>2023-03-01_2_1</td>\n",
       "    </tr>\n",
       "    <tr>\n",
       "      <th>2</th>\n",
       "      <td>2023-03-01</td>\n",
       "      <td>2</td>\n",
       "      <td>14</td>\n",
       "      <td>0.0</td>\n",
       "      <td>215.0</td>\n",
       "      <td>2023-03-01_2_14</td>\n",
       "    </tr>\n",
       "    <tr>\n",
       "      <th>3</th>\n",
       "      <td>2023-03-01</td>\n",
       "      <td>2</td>\n",
       "      <td>16</td>\n",
       "      <td>0.0</td>\n",
       "      <td>85.0</td>\n",
       "      <td>2023-03-01_2_16</td>\n",
       "    </tr>\n",
       "    <tr>\n",
       "      <th>4</th>\n",
       "      <td>2023-03-01</td>\n",
       "      <td>2</td>\n",
       "      <td>19</td>\n",
       "      <td>30.0</td>\n",
       "      <td>690.0</td>\n",
       "      <td>2023-03-01_2_19</td>\n",
       "    </tr>\n",
       "  </tbody>\n",
       "</table>\n",
       "</div>"
      ],
      "text/plain": [
       "         doj  srcid  destid  cumsum_seatcount  cumsum_searchcount  \\\n",
       "0 2023-03-01      1       2               0.0                90.0   \n",
       "1 2023-03-01      2       1               0.0               225.0   \n",
       "2 2023-03-01      2      14               0.0               215.0   \n",
       "3 2023-03-01      2      16               0.0                85.0   \n",
       "4 2023-03-01      2      19              30.0               690.0   \n",
       "\n",
       "         route_key  \n",
       "0   2023-03-01_1_2  \n",
       "1   2023-03-01_2_1  \n",
       "2  2023-03-01_2_14  \n",
       "3  2023-03-01_2_16  \n",
       "4  2023-03-01_2_19  "
      ]
     },
     "execution_count": 23,
     "metadata": {},
     "output_type": "execute_result"
    }
   ],
   "source": [
    "trans_agg.head()"
   ]
  },
  {
   "cell_type": "code",
   "execution_count": 24,
   "id": "a69eff7c",
   "metadata": {},
   "outputs": [],
   "source": [
    "train['route_key'] = train['doj'].astype(str) + \"_\" + \\\n",
    "                     train['srcid'].astype(str) + \"_\" + \\\n",
    "                     train['destid'].astype(str)"
   ]
  },
  {
   "cell_type": "code",
   "execution_count": 25,
   "id": "5ea89ecf",
   "metadata": {},
   "outputs": [
    {
     "data": {
      "text/html": [
       "<div>\n",
       "<style scoped>\n",
       "    .dataframe tbody tr th:only-of-type {\n",
       "        vertical-align: middle;\n",
       "    }\n",
       "\n",
       "    .dataframe tbody tr th {\n",
       "        vertical-align: top;\n",
       "    }\n",
       "\n",
       "    .dataframe thead th {\n",
       "        text-align: right;\n",
       "    }\n",
       "</style>\n",
       "<table border=\"1\" class=\"dataframe\">\n",
       "  <thead>\n",
       "    <tr style=\"text-align: right;\">\n",
       "      <th></th>\n",
       "      <th>route_key</th>\n",
       "      <th>doj</th>\n",
       "      <th>srcid</th>\n",
       "      <th>destid</th>\n",
       "      <th>doj_day</th>\n",
       "      <th>doj_weekday</th>\n",
       "      <th>doj_month</th>\n",
       "      <th>doj_is_weekend</th>\n",
       "    </tr>\n",
       "  </thead>\n",
       "  <tbody>\n",
       "    <tr>\n",
       "      <th>0</th>\n",
       "      <td>2025-02-11_46_45</td>\n",
       "      <td>2025-02-11</td>\n",
       "      <td>46</td>\n",
       "      <td>45</td>\n",
       "      <td>11</td>\n",
       "      <td>1</td>\n",
       "      <td>2</td>\n",
       "      <td>0</td>\n",
       "    </tr>\n",
       "    <tr>\n",
       "      <th>1</th>\n",
       "      <td>2025-01-20_17_23</td>\n",
       "      <td>2025-01-20</td>\n",
       "      <td>17</td>\n",
       "      <td>23</td>\n",
       "      <td>20</td>\n",
       "      <td>0</td>\n",
       "      <td>1</td>\n",
       "      <td>0</td>\n",
       "    </tr>\n",
       "    <tr>\n",
       "      <th>2</th>\n",
       "      <td>2025-01-08_02_14</td>\n",
       "      <td>2025-01-08</td>\n",
       "      <td>2</td>\n",
       "      <td>14</td>\n",
       "      <td>8</td>\n",
       "      <td>2</td>\n",
       "      <td>1</td>\n",
       "      <td>0</td>\n",
       "    </tr>\n",
       "    <tr>\n",
       "      <th>3</th>\n",
       "      <td>2025-01-08_08_47</td>\n",
       "      <td>2025-01-08</td>\n",
       "      <td>8</td>\n",
       "      <td>47</td>\n",
       "      <td>8</td>\n",
       "      <td>2</td>\n",
       "      <td>1</td>\n",
       "      <td>0</td>\n",
       "    </tr>\n",
       "    <tr>\n",
       "      <th>4</th>\n",
       "      <td>2025-01-08_09_46</td>\n",
       "      <td>2025-01-08</td>\n",
       "      <td>9</td>\n",
       "      <td>46</td>\n",
       "      <td>8</td>\n",
       "      <td>2</td>\n",
       "      <td>1</td>\n",
       "      <td>0</td>\n",
       "    </tr>\n",
       "  </tbody>\n",
       "</table>\n",
       "</div>"
      ],
      "text/plain": [
       "          route_key        doj  srcid  destid  doj_day  doj_weekday  \\\n",
       "0  2025-02-11_46_45 2025-02-11     46      45       11            1   \n",
       "1  2025-01-20_17_23 2025-01-20     17      23       20            0   \n",
       "2  2025-01-08_02_14 2025-01-08      2      14        8            2   \n",
       "3  2025-01-08_08_47 2025-01-08      8      47        8            2   \n",
       "4  2025-01-08_09_46 2025-01-08      9      46        8            2   \n",
       "\n",
       "   doj_month  doj_is_weekend  \n",
       "0          2               0  \n",
       "1          1               0  \n",
       "2          1               0  \n",
       "3          1               0  \n",
       "4          1               0  "
      ]
     },
     "execution_count": 25,
     "metadata": {},
     "output_type": "execute_result"
    }
   ],
   "source": [
    "test.head()"
   ]
  },
  {
   "cell_type": "code",
   "execution_count": 26,
   "id": "1e61c5d0",
   "metadata": {},
   "outputs": [],
   "source": [
    "# Merging features into train/test\n",
    "train = train.merge(trans_agg, on=['route_key'], how='left')\n",
    "test = test.merge(trans_agg, on=['route_key'], how='left')"
   ]
  },
  {
   "cell_type": "code",
   "execution_count": 27,
   "id": "4c9c0c4f",
   "metadata": {},
   "outputs": [
    {
     "data": {
      "image/png": "[encoded data removed]",
      "text/plain": [
       "<Figure size 800x500 with 1 Axes>"
      ]
     },
     "metadata": {},
     "output_type": "display_data"
    }
   ],
   "source": [
    "import seaborn as sns\n",
    "import matplotlib.pyplot as plt\n",
    "\n",
    "plt.figure(figsize=(8, 5))\n",
    "sns.scatterplot(x='cumsum_searchcount', y='cumsum_seatcount', data=train)\n",
    "plt.title('Searches vs Bookings (Cumulative)')\n",
    "plt.xlabel('Search Count')\n",
    "plt.ylabel('Seat Count')\n",
    "plt.show()"
   ]
  },
  {
   "cell_type": "code",
   "execution_count": 28,
   "id": "a12af3a2",
   "metadata": {},
   "outputs": [
    {
     "name": "stdout",
     "output_type": "stream",
     "text": [
      "Correlation: 0.7520\n"
     ]
    }
   ],
   "source": [
    "correlation = train[['cumsum_searchcount', 'cumsum_seatcount']].corr().iloc[0,1]\n",
    "print(f\"Correlation: {correlation:.4f}\")"
   ]
  },
  {
   "cell_type": "code",
   "execution_count": 29,
   "id": "8c4cc29e",
   "metadata": {},
   "outputs": [
    {
     "data": {
      "text/html": [
       "<div>\n",
       "<style scoped>\n",
       "    .dataframe tbody tr th:only-of-type {\n",
       "        vertical-align: middle;\n",
       "    }\n",
       "\n",
       "    .dataframe tbody tr th {\n",
       "        vertical-align: top;\n",
       "    }\n",
       "\n",
       "    .dataframe thead th {\n",
       "        text-align: right;\n",
       "    }\n",
       "</style>\n",
       "<table border=\"1\" class=\"dataframe\">\n",
       "  <thead>\n",
       "    <tr style=\"text-align: right;\">\n",
       "      <th></th>\n",
       "      <th>doj_x</th>\n",
       "      <th>srcid_x</th>\n",
       "      <th>destid_x</th>\n",
       "      <th>final_seatcount</th>\n",
       "      <th>doj_day</th>\n",
       "      <th>doj_weekday</th>\n",
       "      <th>doj_month</th>\n",
       "      <th>doj_is_weekend</th>\n",
       "      <th>route_key</th>\n",
       "      <th>doj_y</th>\n",
       "      <th>srcid_y</th>\n",
       "      <th>destid_y</th>\n",
       "      <th>cumsum_seatcount</th>\n",
       "      <th>cumsum_searchcount</th>\n",
       "    </tr>\n",
       "  </thead>\n",
       "  <tbody>\n",
       "    <tr>\n",
       "      <th>0</th>\n",
       "      <td>2023-03-01</td>\n",
       "      <td>45</td>\n",
       "      <td>46</td>\n",
       "      <td>2838.0</td>\n",
       "      <td>1</td>\n",
       "      <td>2</td>\n",
       "      <td>3</td>\n",
       "      <td>0</td>\n",
       "      <td>2023-03-01_45_46</td>\n",
       "      <td>2023-03-01</td>\n",
       "      <td>45</td>\n",
       "      <td>46</td>\n",
       "      <td>16.0</td>\n",
       "      <td>480.0</td>\n",
       "    </tr>\n",
       "    <tr>\n",
       "      <th>1</th>\n",
       "      <td>2023-03-01</td>\n",
       "      <td>46</td>\n",
       "      <td>45</td>\n",
       "      <td>2298.0</td>\n",
       "      <td>1</td>\n",
       "      <td>2</td>\n",
       "      <td>3</td>\n",
       "      <td>0</td>\n",
       "      <td>2023-03-01_46_45</td>\n",
       "      <td>2023-03-01</td>\n",
       "      <td>46</td>\n",
       "      <td>45</td>\n",
       "      <td>34.0</td>\n",
       "      <td>352.0</td>\n",
       "    </tr>\n",
       "    <tr>\n",
       "      <th>2</th>\n",
       "      <td>2023-03-01</td>\n",
       "      <td>45</td>\n",
       "      <td>47</td>\n",
       "      <td>2720.0</td>\n",
       "      <td>1</td>\n",
       "      <td>2</td>\n",
       "      <td>3</td>\n",
       "      <td>0</td>\n",
       "      <td>2023-03-01_45_47</td>\n",
       "      <td>2023-03-01</td>\n",
       "      <td>45</td>\n",
       "      <td>47</td>\n",
       "      <td>36.0</td>\n",
       "      <td>892.0</td>\n",
       "    </tr>\n",
       "    <tr>\n",
       "      <th>3</th>\n",
       "      <td>2023-03-01</td>\n",
       "      <td>47</td>\n",
       "      <td>45</td>\n",
       "      <td>2580.0</td>\n",
       "      <td>1</td>\n",
       "      <td>2</td>\n",
       "      <td>3</td>\n",
       "      <td>0</td>\n",
       "      <td>2023-03-01_47_45</td>\n",
       "      <td>2023-03-01</td>\n",
       "      <td>47</td>\n",
       "      <td>45</td>\n",
       "      <td>18.0</td>\n",
       "      <td>1130.0</td>\n",
       "    </tr>\n",
       "    <tr>\n",
       "      <th>4</th>\n",
       "      <td>2023-03-01</td>\n",
       "      <td>46</td>\n",
       "      <td>9</td>\n",
       "      <td>4185.0</td>\n",
       "      <td>1</td>\n",
       "      <td>2</td>\n",
       "      <td>3</td>\n",
       "      <td>0</td>\n",
       "      <td>2023-03-01_46_9</td>\n",
       "      <td>2023-03-01</td>\n",
       "      <td>46</td>\n",
       "      <td>9</td>\n",
       "      <td>48.0</td>\n",
       "      <td>1023.0</td>\n",
       "    </tr>\n",
       "  </tbody>\n",
       "</table>\n",
       "</div>"
      ],
      "text/plain": [
       "       doj_x  srcid_x  destid_x  final_seatcount  doj_day  doj_weekday  \\\n",
       "0 2023-03-01       45        46           2838.0        1            2   \n",
       "1 2023-03-01       46        45           2298.0        1            2   \n",
       "2 2023-03-01       45        47           2720.0        1            2   \n",
       "3 2023-03-01       47        45           2580.0        1            2   \n",
       "4 2023-03-01       46         9           4185.0        1            2   \n",
       "\n",
       "   doj_month  doj_is_weekend         route_key      doj_y  srcid_y  destid_y  \\\n",
       "0          3               0  2023-03-01_45_46 2023-03-01       45        46   \n",
       "1          3               0  2023-03-01_46_45 2023-03-01       46        45   \n",
       "2          3               0  2023-03-01_45_47 2023-03-01       45        47   \n",
       "3          3               0  2023-03-01_47_45 2023-03-01       47        45   \n",
       "4          3               0   2023-03-01_46_9 2023-03-01       46         9   \n",
       "\n",
       "   cumsum_seatcount  cumsum_searchcount  \n",
       "0              16.0               480.0  \n",
       "1              34.0               352.0  \n",
       "2              36.0               892.0  \n",
       "3              18.0              1130.0  \n",
       "4              48.0              1023.0  "
      ]
     },
     "execution_count": 29,
     "metadata": {},
     "output_type": "execute_result"
    }
   ],
   "source": [
    "train.head()"
   ]
  },
  {
   "cell_type": "code",
   "execution_count": 30,
   "id": "56fc0815",
   "metadata": {},
   "outputs": [
    {
     "name": "stderr",
     "output_type": "stream",
     "text": [
      "C:\\Users\\Gaurav\\AppData\\Local\\Temp\\ipykernel_2136\\2362934746.py:3: FutureWarning: Setting an item of incompatible dtype is deprecated and will raise an error in a future version of pandas. Value '0' has dtype incompatible with datetime64[ns], please explicitly cast to a compatible dtype first.\n",
      "  test.fillna(0, inplace=True)\n"
     ]
    }
   ],
   "source": [
    "# Fill missing with 0\n",
    "train.fillna(0, inplace=True)\n",
    "test.fillna(0, inplace=True)"
   ]
  },
  {
   "cell_type": "markdown",
   "id": "91ce453b",
   "metadata": {},
   "source": [
    "# Model Training"
   ]
  },
  {
   "cell_type": "code",
   "execution_count": 31,
   "id": "b575b41a",
   "metadata": {},
   "outputs": [],
   "source": [
    "features = ['srcid_x', 'destid_x', 'doj_day', 'doj_weekday', 'doj_month',\n",
    "            'doj_is_weekend', 'cumsum_seatcount', 'cumsum_searchcount']\n",
    "\n",
    "X = train[features]\n",
    "y = train['final_seatcount']\n",
    "X_test = test[features]\n"
   ]
  },
  {
   "cell_type": "code",
   "execution_count": 32,
   "id": "c5b607db",
   "metadata": {},
   "outputs": [],
   "source": [
    "\n",
    "X_train, X_val, y_train, y_val = train_test_split(X, y, test_size=0.23, random_state=42)"
   ]
  },
  {
   "cell_type": "code",
   "execution_count": 33,
   "id": "d3e2ba86",
   "metadata": {},
   "outputs": [
    {
     "name": "stdout",
     "output_type": "stream",
     "text": [
      "[LightGBM] [Info] Auto-choosing row-wise multi-threading, the overhead of testing was 0.000226 seconds.\n",
      "You can set `force_row_wise=true` to remove the overhead.\n",
      "And if memory is not enough, you can set `force_col_wise=true`.\n",
      "[LightGBM] [Info] Total Bins 656\n",
      "[LightGBM] [Info] Number of data points in the train set: 51744, number of used features: 8\n",
      "[LightGBM] [Info] Start training from score 2003.099258\n"
     ]
    },
    {
     "data": {
      "text/html": [
       "<style>#sk-container-id-1 {\n",
       "  /* Definition of color scheme common for light and dark mode */\n",
       "  --sklearn-color-text: black;\n",
       "  --sklearn-color-line: gray;\n",
       "  /* Definition of color scheme for unfitted estimators */\n",
       "  --sklearn-color-unfitted-level-0: #fff5e6;\n",
       "  --sklearn-color-unfitted-level-1: #f6e4d2;\n",
       "  --sklearn-color-unfitted-level-2: #ffe0b3;\n",
       "  --sklearn-color-unfitted-level-3: chocolate;\n",
       "  /* Definition of color scheme for fitted estimators */\n",
       "  --sklearn-color-fitted-level-0: #f0f8ff;\n",
       "  --sklearn-color-fitted-level-1: #d4ebff;\n",
       "  --sklearn-color-fitted-level-2: #b3dbfd;\n",
       "  --sklearn-color-fitted-level-3: cornflowerblue;\n",
       "\n",
       "  /* Specific color for light theme */\n",
       "  --sklearn-color-text-on-default-background: var(--sg-text-color, var(--theme-code-foreground, var(--jp-content-font-color1, black)));\n",
       "  --sklearn-color-background: var(--sg-background-color, var(--theme-background, var(--jp-layout-color0, white)));\n",
       "  --sklearn-color-border-box: var(--sg-text-color, var(--theme-code-foreground, var(--jp-content-font-color1, black)));\n",
       "  --sklearn-color-icon: #696969;\n",
       "\n",
       "  @media (prefers-color-scheme: dark) {\n",
       "    /* Redefinition of color scheme for dark theme */\n",
       "    --sklearn-color-text-on-default-background: var(--sg-text-color, var(--theme-code-foreground, var(--jp-content-font-color1, white)));\n",
       "    --sklearn-color-background: var(--sg-background-color, var(--theme-background, var(--jp-layout-color0, #111)));\n",
       "    --sklearn-color-border-box: var(--sg-text-color, var(--theme-code-foreground, var(--jp-content-font-color1, white)));\n",
       "    --sklearn-color-icon: #878787;\n",
       "  }\n",
       "}\n",
       "\n",
       "#sk-container-id-1 {\n",
       "  color: var(--sklearn-color-text);\n",
       "}\n",
       "\n",
       "#sk-container-id-1 pre {\n",
       "  padding: 0;\n",
       "}\n",
       "\n",
       "#sk-container-id-1 input.sk-hidden--visually {\n",
       "  border: 0;\n",
       "  clip: rect(1px 1px 1px 1px);\n",
       "  clip: rect(1px, 1px, 1px, 1px);\n",
       "  height: 1px;\n",
       "  margin: -1px;\n",
       "  overflow: hidden;\n",
       "  padding: 0;\n",
       "  position: absolute;\n",
       "  width: 1px;\n",
       "}\n",
       "\n",
       "#sk-container-id-1 div.sk-dashed-wrapped {\n",
       "  border: 1px dashed var(--sklearn-color-line);\n",
       "  margin: 0 0.4em 0.5em 0.4em;\n",
       "  box-sizing: border-box;\n",
       "  padding-bottom: 0.4em;\n",
       "  background-color: var(--sklearn-color-background);\n",
       "}\n",
       "\n",
       "#sk-container-id-1 div.sk-container {\n",
       "  /* jupyter's `normalize.less` sets `[hidden] { display: none; }`\n",
       "     but bootstrap.min.css set `[hidden] { display: none !important; }`\n",
       "     so we also need the `!important` here to be able to override the\n",
       "     default hidden behavior on the sphinx rendered scikit-learn.org.\n",
       "     See: https://github.com/scikit-learn/scikit-learn/issues/21755 */\n",
       "  display: inline-block !important;\n",
       "  position: relative;\n",
       "}\n",
       "\n",
       "#sk-container-id-1 div.sk-text-repr-fallback {\n",
       "  display: none;\n",
       "}\n",
       "\n",
       "div.sk-parallel-item,\n",
       "div.sk-serial,\n",
       "div.sk-item {\n",
       "  /* draw centered vertical line to link estimators */\n",
       "  background-image: linear-gradient(var(--sklearn-color-text-on-default-background), var(--sklearn-color-text-on-default-background));\n",
       "  background-size: 2px 100%;\n",
       "  background-repeat: no-repeat;\n",
       "  background-position: center center;\n",
       "}\n",
       "\n",
       "/* Parallel-specific style estimator block */\n",
       "\n",
       "#sk-container-id-1 div.sk-parallel-item::after {\n",
       "  content: \"\";\n",
       "  width: 100%;\n",
       "  border-bottom: 2px solid var(--sklearn-color-text-on-default-background);\n",
       "  flex-grow: 1;\n",
       "}\n",
       "\n",
       "#sk-container-id-1 div.sk-parallel {\n",
       "  display: flex;\n",
       "  align-items: stretch;\n",
       "  justify-content: center;\n",
       "  background-color: var(--sklearn-color-background);\n",
       "  position: relative;\n",
       "}\n",
       "\n",
       "#sk-container-id-1 div.sk-parallel-item {\n",
       "  display: flex;\n",
       "  flex-direction: column;\n",
       "}\n",
       "\n",
       "#sk-container-id-1 div.sk-parallel-item:first-child::after {\n",
       "  align-self: flex-end;\n",
       "  width: 50%;\n",
       "}\n",
       "\n",
       "#sk-container-id-1 div.sk-parallel-item:last-child::after {\n",
       "  align-self: flex-start;\n",
       "  width: 50%;\n",
       "}\n",
       "\n",
       "#sk-container-id-1 div.sk-parallel-item:only-child::after {\n",
       "  width: 0;\n",
       "}\n",
       "\n",
       "/* Serial-specific style estimator block */\n",
       "\n",
       "#sk-container-id-1 div.sk-serial {\n",
       "  display: flex;\n",
       "  flex-direction: column;\n",
       "  align-items: center;\n",
       "  background-color: var(--sklearn-color-background);\n",
       "  padding-right: 1em;\n",
       "  padding-left: 1em;\n",
       "}\n",
       "\n",
       "\n",
       "/* Toggleable style: style used for estimator/Pipeline/ColumnTransformer box that is\n",
       "clickable and can be expanded/collapsed.\n",
       "- Pipeline and ColumnTransformer use this feature and define the default style\n",
       "- Estimators will overwrite some part of the style using the `sk-estimator` class\n",
       "*/\n",
       "\n",
       "/* Pipeline and ColumnTransformer style (default) */\n",
       "\n",
       "#sk-container-id-1 div.sk-toggleable {\n",
       "  /* Default theme specific background. It is overwritten whether we have a\n",
       "  specific estimator or a Pipeline/ColumnTransformer */\n",
       "  background-color: var(--sklearn-color-background);\n",
       "}\n",
       "\n",
       "/* Toggleable label */\n",
       "#sk-container-id-1 label.sk-toggleable__label {\n",
       "  cursor: pointer;\n",
       "  display: block;\n",
       "  width: 100%;\n",
       "  margin-bottom: 0;\n",
       "  padding: 0.5em;\n",
       "  box-sizing: border-box;\n",
       "  text-align: center;\n",
       "}\n",
       "\n",
       "#sk-container-id-1 label.sk-toggleable__label-arrow:before {\n",
       "  /* Arrow on the left of the label */\n",
       "  content: \"▸\";\n",
       "  float: left;\n",
       "  margin-right: 0.25em;\n",
       "  color: var(--sklearn-color-icon);\n",
       "}\n",
       "\n",
       "#sk-container-id-1 label.sk-toggleable__label-arrow:hover:before {\n",
       "  color: var(--sklearn-color-text);\n",
       "}\n",
       "\n",
       "/* Toggleable content - dropdown */\n",
       "\n",
       "#sk-container-id-1 div.sk-toggleable__content {\n",
       "  max-height: 0;\n",
       "  max-width: 0;\n",
       "  overflow: hidden;\n",
       "  text-align: left;\n",
       "  /* unfitted */\n",
       "  background-color: var(--sklearn-color-unfitted-level-0);\n",
       "}\n",
       "\n",
       "#sk-container-id-1 div.sk-toggleable__content.fitted {\n",
       "  /* fitted */\n",
       "  background-color: var(--sklearn-color-fitted-level-0);\n",
       "}\n",
       "\n",
       "#sk-container-id-1 div.sk-toggleable__content pre {\n",
       "  margin: 0.2em;\n",
       "  border-radius: 0.25em;\n",
       "  color: var(--sklearn-color-text);\n",
       "  /* unfitted */\n",
       "  background-color: var(--sklearn-color-unfitted-level-0);\n",
       "}\n",
       "\n",
       "#sk-container-id-1 div.sk-toggleable__content.fitted pre {\n",
       "  /* unfitted */\n",
       "  background-color: var(--sklearn-color-fitted-level-0);\n",
       "}\n",
       "\n",
       "#sk-container-id-1 input.sk-toggleable__control:checked~div.sk-toggleable__content {\n",
       "  /* Expand drop-down */\n",
       "  max-height: 200px;\n",
       "  max-width: 100%;\n",
       "  overflow: auto;\n",
       "}\n",
       "\n",
       "#sk-container-id-1 input.sk-toggleable__control:checked~label.sk-toggleable__label-arrow:before {\n",
       "  content: \"▾\";\n",
       "}\n",
       "\n",
       "/* Pipeline/ColumnTransformer-specific style */\n",
       "\n",
       "#sk-container-id-1 div.sk-label input.sk-toggleable__control:checked~label.sk-toggleable__label {\n",
       "  color: var(--sklearn-color-text);\n",
       "  background-color: var(--sklearn-color-unfitted-level-2);\n",
       "}\n",
       "\n",
       "#sk-container-id-1 div.sk-label.fitted input.sk-toggleable__control:checked~label.sk-toggleable__label {\n",
       "  background-color: var(--sklearn-color-fitted-level-2);\n",
       "}\n",
       "\n",
       "/* Estimator-specific style */\n",
       "\n",
       "/* Colorize estimator box */\n",
       "#sk-container-id-1 div.sk-estimator input.sk-toggleable__control:checked~label.sk-toggleable__label {\n",
       "  /* unfitted */\n",
       "  background-color: var(--sklearn-color-unfitted-level-2);\n",
       "}\n",
       "\n",
       "#sk-container-id-1 div.sk-estimator.fitted input.sk-toggleable__control:checked~label.sk-toggleable__label {\n",
       "  /* fitted */\n",
       "  background-color: var(--sklearn-color-fitted-level-2);\n",
       "}\n",
       "\n",
       "#sk-container-id-1 div.sk-label label.sk-toggleable__label,\n",
       "#sk-container-id-1 div.sk-label label {\n",
       "  /* The background is the default theme color */\n",
       "  color: var(--sklearn-color-text-on-default-background);\n",
       "}\n",
       "\n",
       "/* On hover, darken the color of the background */\n",
       "#sk-container-id-1 div.sk-label:hover label.sk-toggleable__label {\n",
       "  color: var(--sklearn-color-text);\n",
       "  background-color: var(--sklearn-color-unfitted-level-2);\n",
       "}\n",
       "\n",
       "/* Label box, darken color on hover, fitted */\n",
       "#sk-container-id-1 div.sk-label.fitted:hover label.sk-toggleable__label.fitted {\n",
       "  color: var(--sklearn-color-text);\n",
       "  background-color: var(--sklearn-color-fitted-level-2);\n",
       "}\n",
       "\n",
       "/* Estimator label */\n",
       "\n",
       "#sk-container-id-1 div.sk-label label {\n",
       "  font-family: monospace;\n",
       "  font-weight: bold;\n",
       "  display: inline-block;\n",
       "  line-height: 1.2em;\n",
       "}\n",
       "\n",
       "#sk-container-id-1 div.sk-label-container {\n",
       "  text-align: center;\n",
       "}\n",
       "\n",
       "/* Estimator-specific */\n",
       "#sk-container-id-1 div.sk-estimator {\n",
       "  font-family: monospace;\n",
       "  border: 1px dotted var(--sklearn-color-border-box);\n",
       "  border-radius: 0.25em;\n",
       "  box-sizing: border-box;\n",
       "  margin-bottom: 0.5em;\n",
       "  /* unfitted */\n",
       "  background-color: var(--sklearn-color-unfitted-level-0);\n",
       "}\n",
       "\n",
       "#sk-container-id-1 div.sk-estimator.fitted {\n",
       "  /* fitted */\n",
       "  background-color: var(--sklearn-color-fitted-level-0);\n",
       "}\n",
       "\n",
       "/* on hover */\n",
       "#sk-container-id-1 div.sk-estimator:hover {\n",
       "  /* unfitted */\n",
       "  background-color: var(--sklearn-color-unfitted-level-2);\n",
       "}\n",
       "\n",
       "#sk-container-id-1 div.sk-estimator.fitted:hover {\n",
       "  /* fitted */\n",
       "  background-color: var(--sklearn-color-fitted-level-2);\n",
       "}\n",
       "\n",
       "/* Specification for estimator info (e.g. \"i\" and \"?\") */\n",
       "\n",
       "/* Common style for \"i\" and \"?\" */\n",
       "\n",
       ".sk-estimator-doc-link,\n",
       "a:link.sk-estimator-doc-link,\n",
       "a:visited.sk-estimator-doc-link {\n",
       "  float: right;\n",
       "  font-size: smaller;\n",
       "  line-height: 1em;\n",
       "  font-family: monospace;\n",
       "  background-color: var(--sklearn-color-background);\n",
       "  border-radius: 1em;\n",
       "  height: 1em;\n",
       "  width: 1em;\n",
       "  text-decoration: none !important;\n",
       "  margin-left: 1ex;\n",
       "  /* unfitted */\n",
       "  border: var(--sklearn-color-unfitted-level-1) 1pt solid;\n",
       "  color: var(--sklearn-color-unfitted-level-1);\n",
       "}\n",
       "\n",
       ".sk-estimator-doc-link.fitted,\n",
       "a:link.sk-estimator-doc-link.fitted,\n",
       "a:visited.sk-estimator-doc-link.fitted {\n",
       "  /* fitted */\n",
       "  border: var(--sklearn-color-fitted-level-1) 1pt solid;\n",
       "  color: var(--sklearn-color-fitted-level-1);\n",
       "}\n",
       "\n",
       "/* On hover */\n",
       "div.sk-estimator:hover .sk-estimator-doc-link:hover,\n",
       ".sk-estimator-doc-link:hover,\n",
       "div.sk-label-container:hover .sk-estimator-doc-link:hover,\n",
       ".sk-estimator-doc-link:hover {\n",
       "  /* unfitted */\n",
       "  background-color: var(--sklearn-color-unfitted-level-3);\n",
       "  color: var(--sklearn-color-background);\n",
       "  text-decoration: none;\n",
       "}\n",
       "\n",
       "div.sk-estimator.fitted:hover .sk-estimator-doc-link.fitted:hover,\n",
       ".sk-estimator-doc-link.fitted:hover,\n",
       "div.sk-label-container:hover .sk-estimator-doc-link.fitted:hover,\n",
       ".sk-estimator-doc-link.fitted:hover {\n",
       "  /* fitted */\n",
       "  background-color: var(--sklearn-color-fitted-level-3);\n",
       "  color: var(--sklearn-color-background);\n",
       "  text-decoration: none;\n",
       "}\n",
       "\n",
       "/* Span, style for the box shown on hovering the info icon */\n",
       ".sk-estimator-doc-link span {\n",
       "  display: none;\n",
       "  z-index: 9999;\n",
       "  position: relative;\n",
       "  font-weight: normal;\n",
       "  right: .2ex;\n",
       "  padding: .5ex;\n",
       "  margin: .5ex;\n",
       "  width: min-content;\n",
       "  min-width: 20ex;\n",
       "  max-width: 50ex;\n",
       "  color: var(--sklearn-color-text);\n",
       "  box-shadow: 2pt 2pt 4pt #999;\n",
       "  /* unfitted */\n",
       "  background: var(--sklearn-color-unfitted-level-0);\n",
       "  border: .5pt solid var(--sklearn-color-unfitted-level-3);\n",
       "}\n",
       "\n",
       ".sk-estimator-doc-link.fitted span {\n",
       "  /* fitted */\n",
       "  background: var(--sklearn-color-fitted-level-0);\n",
       "  border: var(--sklearn-color-fitted-level-3);\n",
       "}\n",
       "\n",
       ".sk-estimator-doc-link:hover span {\n",
       "  display: block;\n",
       "}\n",
       "\n",
       "/* \"?\"-specific style due to the `<a>` HTML tag */\n",
       "\n",
       "#sk-container-id-1 a.estimator_doc_link {\n",
       "  float: right;\n",
       "  font-size: 1rem;\n",
       "  line-height: 1em;\n",
       "  font-family: monospace;\n",
       "  background-color: var(--sklearn-color-background);\n",
       "  border-radius: 1rem;\n",
       "  height: 1rem;\n",
       "  width: 1rem;\n",
       "  text-decoration: none;\n",
       "  /* unfitted */\n",
       "  color: var(--sklearn-color-unfitted-level-1);\n",
       "  border: var(--sklearn-color-unfitted-level-1) 1pt solid;\n",
       "}\n",
       "\n",
       "#sk-container-id-1 a.estimator_doc_link.fitted {\n",
       "  /* fitted */\n",
       "  border: var(--sklearn-color-fitted-level-1) 1pt solid;\n",
       "  color: var(--sklearn-color-fitted-level-1);\n",
       "}\n",
       "\n",
       "/* On hover */\n",
       "#sk-container-id-1 a.estimator_doc_link:hover {\n",
       "  /* unfitted */\n",
       "  background-color: var(--sklearn-color-unfitted-level-3);\n",
       "  color: var(--sklearn-color-background);\n",
       "  text-decoration: none;\n",
       "}\n",
       "\n",
       "#sk-container-id-1 a.estimator_doc_link.fitted:hover {\n",
       "  /* fitted */\n",
       "  background-color: var(--sklearn-color-fitted-level-3);\n",
       "}\n",
       "</style><div id=\"sk-container-id-1\" class=\"sk-top-container\"><div class=\"sk-text-repr-fallback\"><pre>LGBMRegressor(random_state=42)</pre><b>In a Jupyter environment, please rerun this cell to show the HTML representation or trust the notebook. <br />On GitHub, the HTML representation is unable to render, please try loading this page with nbviewer.org.</b></div><div class=\"sk-container\" hidden><div class=\"sk-item\"><div class=\"sk-estimator fitted sk-toggleable\"><input class=\"sk-toggleable__control sk-hidden--visually\" id=\"sk-estimator-id-1\" type=\"checkbox\" checked><label for=\"sk-estimator-id-1\" class=\"sk-toggleable__label fitted sk-toggleable__label-arrow fitted\">&nbsp;LGBMRegressor<span class=\"sk-estimator-doc-link fitted\">i<span>Fitted</span></span></label><div class=\"sk-toggleable__content fitted\"><pre>LGBMRegressor(random_state=42)</pre></div> </div></div></div></div>"
      ],
      "text/plain": [
       "LGBMRegressor(random_state=42)"
      ]
     },
     "execution_count": 33,
     "metadata": {},
     "output_type": "execute_result"
    }
   ],
   "source": [
    "\n",
    "# Model - LightGBM\n",
    "model = lgb.LGBMRegressor(random_state=42)\n",
    "model.fit(X_train, y_train)"
   ]
  },
  {
   "cell_type": "code",
   "execution_count": 34,
   "id": "eb9c4aa7",
   "metadata": {},
   "outputs": [
    {
     "name": "stdout",
     "output_type": "stream",
     "text": [
      "Validation RMSE: 457.3867145470571\n"
     ]
    }
   ],
   "source": [
    "# Validation\n",
    "val_preds = model.predict(X_val)\n",
    "rmse = np.sqrt(mean_squared_error(y_val, val_preds))\n",
    "print(\"Validation RMSE:\", rmse)"
   ]
  },
  {
   "cell_type": "code",
   "execution_count": 35,
   "id": "bc875f40",
   "metadata": {},
   "outputs": [],
   "source": [
    "test_preds = model.predict(X_test)\n",
    "submission = test[['route_key']].copy()\n",
    "submission['final_seatcount'] = test_preds"
   ]
  },
  {
   "cell_type": "code",
   "execution_count": 36,
   "id": "c0671379",
   "metadata": {},
   "outputs": [
    {
     "data": {
      "text/plain": [
       "array([3550.13616029, 1507.05468969,  934.48153964, ..., 1827.88730983,\n",
       "        815.16616565, 2040.58346891])"
      ]
     },
     "execution_count": 36,
     "metadata": {},
     "output_type": "execute_result"
    }
   ],
   "source": [
    "test_preds"
   ]
  },
  {
   "cell_type": "code",
   "execution_count": 37,
   "id": "34a05fac",
   "metadata": {},
   "outputs": [
    {
     "name": "stdout",
     "output_type": "stream",
     "text": [
      "Validation RMSE: 457.39\n",
      "Validation MAE: 329.34\n",
      "R² Score: 0.8542\n"
     ]
    }
   ],
   "source": [
    "from sklearn.metrics import mean_squared_error, mean_absolute_error, r2_score\n",
    "\n",
    "# Predictions\n",
    "val_preds = model.predict(X_val)\n",
    "\n",
    "# Metrics\n",
    "rmse = np.sqrt(mean_squared_error(y_val, val_preds))\n",
    "mae = mean_absolute_error(y_val, val_preds)\n",
    "r2 = r2_score(y_val, val_preds)\n",
    "\n",
    "print(f\"Validation RMSE: {rmse:.2f}\")\n",
    "print(f\"Validation MAE: {mae:.2f}\")\n",
    "print(f\"R² Score: {r2:.4f}\")"
   ]
  },
  {
   "cell_type": "markdown",
   "id": "62ef0f05",
   "metadata": {},
   "source": [
    "## Hyper Parameter Tuning"
   ]
  },
  {
   "cell_type": "code",
   "execution_count": 38,
   "id": "ceea3896",
   "metadata": {},
   "outputs": [
    {
     "name": "stdout",
     "output_type": "stream",
     "text": [
      "[LightGBM] [Info] Auto-choosing row-wise multi-threading, the overhead of testing was 0.000468 seconds.\n",
      "You can set `force_row_wise=true` to remove the overhead.\n",
      "And if memory is not enough, you can set `force_col_wise=true`.\n",
      "[LightGBM] [Info] Total Bins 656\n",
      "[LightGBM] [Info] Number of data points in the train set: 51744, number of used features: 8\n",
      "[LightGBM] [Info] Start training from score 2003.099258\n",
      "[LightGBM] [Warning] No further splits with positive gain, best gain: -inf\n",
      "Manual Validation RMSE: 405.15\n",
      "Manual Validation R² Score: 0.8856\n"
     ]
    }
   ],
   "source": [
    "from lightgbm import LGBMRegressor\n",
    "\n",
    "best_params = {\n",
    "    'learning_rate': 0.1,\n",
    "    'max_depth': 10,\n",
    "    'min_child_samples': 20,\n",
    "    'n_estimators': 300,\n",
    "    'num_leaves': 31,\n",
    "    'random_state': 42\n",
    "}\n",
    "\n",
    "model = LGBMRegressor(**best_params)\n",
    "model.fit(X_train, y_train)\n",
    "\n",
    "val_preds = model.predict(X_val)\n",
    "rmse = np.sqrt(mean_squared_error(y_val, val_preds))\n",
    "r2 = r2_score(y_val, val_preds)\n",
    "\n",
    "print(f\"Manual Validation RMSE: {rmse:.2f}\")\n",
    "print(f\"Manual Validation R² Score: {r2:.4f}\")"
   ]
  },
  {
   "cell_type": "code",
   "execution_count": 40,
   "id": "690b2566",
   "metadata": {},
   "outputs": [
    {
     "name": "stdout",
     "output_type": "stream",
     "text": [
      "Fitting 3 folds for each of 7 candidates, totalling 21 fits\n",
      "[LightGBM] [Info] Auto-choosing row-wise multi-threading, the overhead of testing was 0.000411 seconds.\n",
      "You can set `force_row_wise=true` to remove the overhead.\n",
      "And if memory is not enough, you can set `force_col_wise=true`.\n",
      "[LightGBM] [Info] Total Bins 656\n",
      "[LightGBM] [Info] Number of data points in the train set: 51744, number of used features: 8\n",
      "[LightGBM] [Info] Start training from score 2003.099258\n",
      "Best n_estimators: {'n_estimators': 400} 408.3216004922039\n"
     ]
    }
   ],
   "source": [
    "from sklearn.model_selection import GridSearchCV\n",
    "\n",
    "param_test1 = {'n_estimators': range(100, 401, 50)}\n",
    "\n",
    "gsearch1 = GridSearchCV(\n",
    "    estimator=LGBMRegressor(learning_rate=0.1, random_state=42),\n",
    "    param_grid=param_test1,\n",
    "    scoring='neg_root_mean_squared_error',\n",
    "    cv=3,\n",
    "    verbose=1,\n",
    "    n_jobs=-1\n",
    ")\n",
    "gsearch1.fit(X_train, y_train)\n",
    "print(\"Best n_estimators:\", gsearch1.best_params_, -gsearch1.best_score_)"
   ]
  },
  {
   "cell_type": "code",
   "execution_count": 41,
   "id": "4e04f538",
   "metadata": {},
   "outputs": [
    {
     "name": "stdout",
     "output_type": "stream",
     "text": [
      "Fitting 3 folds for each of 30 candidates, totalling 90 fits\n"
     ]
    },
    {
     "name": "stderr",
     "output_type": "stream",
     "text": [
      "e:\\ML\\Codes\\venv\\lib\\site-packages\\numpy\\ma\\core.py:2881: RuntimeWarning: invalid value encountered in cast\n",
      "  _data = np.array(data, dtype=dtype, copy=copy,\n"
     ]
    },
    {
     "name": "stdout",
     "output_type": "stream",
     "text": [
      "[LightGBM] [Info] Auto-choosing row-wise multi-threading, the overhead of testing was 0.000191 seconds.\n",
      "You can set `force_row_wise=true` to remove the overhead.\n",
      "And if memory is not enough, you can set `force_col_wise=true`.\n",
      "[LightGBM] [Info] Total Bins 656\n",
      "[LightGBM] [Info] Number of data points in the train set: 51744, number of used features: 8\n",
      "[LightGBM] [Info] Start training from score 2003.099258\n",
      "[LightGBM] [Warning] No further splits with positive gain, best gain: -inf\n",
      "[LightGBM] [Warning] No further splits with positive gain, best gain: -inf\n",
      "[LightGBM] [Warning] No further splits with positive gain, best gain: -inf\n",
      "Best depth & child_samples: {'max_depth': 11, 'min_child_samples': 20} 407.0691980236077\n"
     ]
    }
   ],
   "source": [
    "param_test2 = {\n",
    "    'max_depth': range(5, 16, 2),\n",
    "    'min_child_samples': range(20, 101, 20)\n",
    "}\n",
    "\n",
    "gsearch2 = GridSearchCV(\n",
    "    estimator=LGBMRegressor(learning_rate=0.1,\n",
    "                            n_estimators=gsearch1.best_params_['n_estimators'],\n",
    "                            random_state=42),\n",
    "    param_grid=param_test2,\n",
    "    scoring='neg_root_mean_squared_error',\n",
    "    cv=3,\n",
    "    verbose=1,\n",
    "    n_jobs=-1\n",
    ")\n",
    "gsearch2.fit(X_train, y_train)\n",
    "print(\"Best depth & child_samples:\", gsearch2.best_params_, -gsearch2.best_score_)"
   ]
  },
  {
   "cell_type": "code",
   "execution_count": 42,
   "id": "ba5ab015",
   "metadata": {},
   "outputs": [
    {
     "name": "stdout",
     "output_type": "stream",
     "text": [
      "Fitting 3 folds for each of 16 candidates, totalling 48 fits\n",
      "[LightGBM] [Info] Auto-choosing row-wise multi-threading, the overhead of testing was 0.000495 seconds.\n",
      "You can set `force_row_wise=true` to remove the overhead.\n",
      "And if memory is not enough, you can set `force_col_wise=true`.\n",
      "[LightGBM] [Info] Total Bins 656\n",
      "[LightGBM] [Info] Number of data points in the train set: 51744, number of used features: 8\n",
      "[LightGBM] [Info] Start training from score 2003.099258\n",
      "Best sample & colsample: {'colsample_bytree': 0.9, 'subsample': 0.6} 408.74309336361443\n"
     ]
    }
   ],
   "source": [
    "param_test3 = {\n",
    "    'subsample': [0.6, 0.7, 0.8, 0.9],\n",
    "    'colsample_bytree': [0.6, 0.7, 0.8, 0.9]\n",
    "}\n",
    "\n",
    "gsearch3 = GridSearchCV(\n",
    "    estimator=LGBMRegressor(learning_rate=0.1,\n",
    "                            n_estimators=gsearch1.best_params_['n_estimators'],\n",
    "                            max_depth=gsearch2.best_params_['max_depth'],\n",
    "                            min_child_samples=gsearch2.best_params_['min_child_samples'],\n",
    "                            random_state=42),\n",
    "    param_grid=param_test3,\n",
    "    scoring='neg_root_mean_squared_error',\n",
    "    cv=3,\n",
    "    verbose=1,\n",
    "    n_jobs=-1\n",
    ")\n",
    "gsearch3.fit(X_train, y_train)\n",
    "print(\"Best sample & colsample:\", gsearch3.best_params_, -gsearch3.best_score_)"
   ]
  },
  {
   "cell_type": "code",
   "execution_count": 43,
   "id": "88625cbe",
   "metadata": {},
   "outputs": [],
   "source": [
    "best_n = gsearch1.best_params_['n_estimators']\n",
    "best_depth = gsearch2.best_params_['max_depth']\n",
    "best_child = gsearch2.best_params_['min_child_samples']\n",
    "best_sub = gsearch3.best_params_['subsample']\n",
    "best_col = gsearch3.best_params_['colsample_bytree']"
   ]
  },
  {
   "cell_type": "code",
   "execution_count": 44,
   "id": "0c5044d0",
   "metadata": {},
   "outputs": [
    {
     "name": "stdout",
     "output_type": "stream",
     "text": [
      "[LightGBM] [Info] Auto-choosing row-wise multi-threading, the overhead of testing was 0.000452 seconds.\n",
      "You can set `force_row_wise=true` to remove the overhead.\n",
      "And if memory is not enough, you can set `force_col_wise=true`.\n",
      "[LightGBM] [Info] Total Bins 656\n",
      "[LightGBM] [Info] Number of data points in the train set: 51744, number of used features: 8\n",
      "[LightGBM] [Info] Start training from score 7.436142\n"
     ]
    }
   ],
   "source": [
    "model = LGBMRegressor(\n",
    "    learning_rate=0.1,\n",
    "    n_estimators= best_n,\n",
    "    max_depth=best_depth,\n",
    "    min_child_samples=best_child,\n",
    "    subsample=best_sub,\n",
    "    colsample_bytree=best_col,\n",
    "    random_state=42\n",
    ")\n",
    "model.fit(X_train, np.log1p(y_train))\n",
    "val_preds = np.expm1(model.predict(X_val))"
   ]
  },
  {
   "cell_type": "code",
   "execution_count": 45,
   "id": "f6d8a349",
   "metadata": {},
   "outputs": [
    {
     "name": "stdout",
     "output_type": "stream",
     "text": [
      "R² Score: 0.8920\n"
     ]
    }
   ],
   "source": [
    "from sklearn.metrics import r2_score\n",
    "import numpy as np\n",
    "\n",
    "# Inverse transform predictions\n",
    "y_pred_exp = np.expm1(model.predict(X_val))\n",
    "\n",
    "# R² score\n",
    "r2 = r2_score(y_val, y_pred_exp)\n",
    "print(f\"R² Score: {r2:.4f}\")"
   ]
  },
  {
   "cell_type": "markdown",
   "id": "4d373b95",
   "metadata": {},
   "source": [
    "## Feature Engineering : performed consistent feature engineering on both train and test sets. Key features include date related signals, search to booking ratios, and holiday indicators."
   ]
  },
  {
   "cell_type": "markdown",
   "id": "5aaf09d1",
   "metadata": {},
   "source": [
    "\n",
    "\n",
    "## We engineered features such as:\n",
    "- `booking_intensity` = seats / (searches + 1)\n",
    "- `log_cumsum_*` for skewed distributions\n",
    "- `is_holidays`, `is_weekend`\n"
   ]
  },
  {
   "cell_type": "code",
   "execution_count": 46,
   "id": "73e975b4",
   "metadata": {},
   "outputs": [],
   "source": [
    "route_avg = train.groupby(['srcid_x', 'destid_x'])['final_seatcount'].mean().reset_index()\n",
    "route_avg.rename(columns={'final_seatcount': 'avg_seatcount_per_route'}, inplace=True)\n",
    "\n",
    "train = train.merge(route_avg, on=['srcid_x', 'destid_x'], how='left')\n",
    "test = test.merge(route_avg, on=['srcid_x', 'destid_x'], how='left')"
   ]
  },
  {
   "cell_type": "code",
   "execution_count": 47,
   "id": "972625cc",
   "metadata": {},
   "outputs": [],
   "source": [
    "train['booking_intensity'] = train['cumsum_seatcount'] / (train['cumsum_searchcount'] + 1)\n",
    "test['booking_intensity'] = test['cumsum_seatcount'] / (test['cumsum_searchcount'] + 1)"
   ]
  },
  {
   "cell_type": "code",
   "execution_count": 48,
   "id": "d515ff7e",
   "metadata": {},
   "outputs": [],
   "source": [
    "train['doj_is_weekend'] = train['doj_x'].dt.weekday.isin([5, 6]).astype(int)\n",
    "test['doj_is_weekend'] = test['doj_x'].dt.weekday.isin([5, 6]).astype(int)"
   ]
  },
  {
   "cell_type": "code",
   "execution_count": 49,
   "id": "74161f6c",
   "metadata": {},
   "outputs": [],
   "source": [
    "indian_holidays = ['2025-01-26', '2025-08-15', '2025-10-02']\n",
    "train['is_holiday'] = train['doj_x'].dt.strftime('%Y-%m-%d').isin(indian_holidays).astype(int)\n",
    "test['is_holiday'] = test['doj_x'].dt.strftime('%Y-%m-%d').isin(indian_holidays).astype(int)"
   ]
  },
  {
   "cell_type": "code",
   "execution_count": 50,
   "id": "24c6cb7e",
   "metadata": {},
   "outputs": [
    {
     "name": "stderr",
     "output_type": "stream",
     "text": [
      "C:\\Users\\Gaurav\\AppData\\Local\\Temp\\ipykernel_2136\\4122091342.py:8: FutureWarning: Series.fillna with 'method' is deprecated and will raise in a future version. Use obj.ffill() or obj.bfill() instead.\n",
      "  train['prev_day_seatcount'] = train['prev_day_seatcount'].fillna(method='bfill')\n"
     ]
    }
   ],
   "source": [
    "# Shifting seat count for each route (per doj)\n",
    "train_sorted = train.sort_values(['srcid_x', 'destid_x', 'doj_x'])\n",
    "\n",
    "train_sorted['prev_day_seatcount'] = train_sorted.groupby(['srcid_x', 'destid_x'])['final_seatcount'].shift(1)\n",
    "train = train_sorted\n",
    "\n",
    "\n",
    "train['prev_day_seatcount'] = train['prev_day_seatcount'].fillna(method='bfill')"
   ]
  },
  {
   "cell_type": "code",
   "execution_count": 51,
   "id": "10116064",
   "metadata": {},
   "outputs": [],
   "source": [
    "#  Log transforming features \n",
    "train['log_cumsum_seatcount'] = np.log1p(train['cumsum_seatcount'])\n",
    "test['log_cumsum_seatcount'] = np.log1p(test['cumsum_seatcount'])\n",
    "\n",
    "train['log_cumsum_searchcount'] = np.log1p(train['cumsum_searchcount'])\n",
    "test['log_cumsum_searchcount'] = np.log1p(test['cumsum_searchcount'])"
   ]
  },
  {
   "cell_type": "code",
   "execution_count": 52,
   "id": "61b5f4fb",
   "metadata": {},
   "outputs": [],
   "source": [
    "features = [\n",
    "    'srcid_x', 'destid_x', 'doj_day', 'doj_weekday', 'doj_month',\n",
    "    'log_cumsum_seatcount', 'log_cumsum_searchcount',\n",
    "    'avg_seatcount_per_route', 'booking_intensity',\n",
    "    'doj_is_weekend', 'is_holiday', 'prev_day_seatcount'\n",
    "]"
   ]
  },
  {
   "cell_type": "code",
   "execution_count": 53,
   "id": "6d200a15",
   "metadata": {},
   "outputs": [
    {
     "name": "stdout",
     "output_type": "stream",
     "text": [
      "[LightGBM] [Info] Auto-choosing col-wise multi-threading, the overhead of testing was 0.001425 seconds.\n",
      "You can set `force_col_wise=true` to remove the overhead.\n",
      "[LightGBM] [Info] Total Bins 1267\n",
      "[LightGBM] [Info] Number of data points in the train set: 53760, number of used features: 11\n",
      "[LightGBM] [Info] Start training from score 7.434047\n",
      "\n",
      " Improved Validation RMSE: 342.39\n",
      " Improved Validation R² Score: 0.9199\n"
     ]
    }
   ],
   "source": [
    "# Train/Test Split \n",
    "X = train[features]\n",
    "y = train['final_seatcount']\n",
    "X_train, X_val, y_train, y_val = train_test_split(X, y, test_size=0.2, random_state=42)\n",
    "\n",
    "#  Training model with best parameters\n",
    "model = LGBMRegressor(\n",
    "    learning_rate=0.1,\n",
    "    n_estimators=300,\n",
    "    max_depth=10,\n",
    "    min_child_samples=20,\n",
    "    num_leaves=31,\n",
    "    subsample=0.8,\n",
    "    colsample_bytree=0.8,\n",
    "    random_state=42\n",
    ")\n",
    "\n",
    "# Log transform target\n",
    "model.fit(X_train, np.log1p(y_train))\n",
    "\n",
    "# Predicting and evaluate \n",
    "val_preds_log = model.predict(X_val)\n",
    "val_preds = np.expm1(val_preds_log)\n",
    "\n",
    "rmse = np.sqrt(mean_squared_error(y_val, val_preds))\n",
    "r2 = r2_score(y_val, val_preds)\n",
    "\n",
    "print(f\"\\n Improved Validation RMSE: {rmse:.2f}\")\n",
    "print(f\" Improved Validation R² Score: {r2:.4f}\")"
   ]
  },
  {
   "cell_type": "code",
   "execution_count": 54,
   "id": "01f06056",
   "metadata": {},
   "outputs": [
    {
     "data": {
      "image/png": "[encoded data removed]",
      "text/plain": [
       "<Figure size 1000x600 with 1 Axes>"
      ]
     },
     "metadata": {},
     "output_type": "display_data"
    }
   ],
   "source": [
    "import matplotlib.pyplot as plt\n",
    "import seaborn as sns\n",
    "\n",
    "# Ploting top 10 features\n",
    "importances = model.feature_importances_\n",
    "feature_names = X_train.columns\n",
    "feat_df = pd.DataFrame({'Feature': feature_names, 'Importance': importances})\n",
    "feat_df = feat_df.sort_values('Importance', ascending=False)\n",
    "\n",
    "plt.figure(figsize=(10,6))\n",
    "sns.barplot(x='Importance', y='Feature', data=feat_df.head(10))\n",
    "plt.title(\"Top 10 Feature Importances\")\n",
    "plt.show()"
   ]
  },
  {
   "cell_type": "code",
   "execution_count": null,
   "id": "1f65cf79",
   "metadata": {},
   "outputs": [],
   "source": []
  },
  {
   "cell_type": "code",
   "execution_count": 55,
   "id": "9c697357",
   "metadata": {},
   "outputs": [
    {
     "data": {
      "text/plain": [
       "array(['Tamil Nadu', 'Karnataka', 'Andhra Pradesh', 'Maharashtra and Goa',\n",
       "       'Delhi', 'Madhya Pradesh', 'Rest of North', 'East 1', 'Rajasthan',\n",
       "       'Kerala'], dtype=object)"
      ]
     },
     "execution_count": 55,
     "metadata": {},
     "output_type": "execute_result"
    }
   ],
   "source": [
    "transactions['destid_region'].unique()"
   ]
  },
  {
   "cell_type": "code",
   "execution_count": 56,
   "id": "352333ef",
   "metadata": {},
   "outputs": [],
   "source": [
    "import holidays\n",
    "from datetime import date\n",
    "\n",
    "# Defining target years\n",
    "years = [2022, 2023, 2024, 2025]\n",
    "\n",
    "\n",
    "state_codes = {\n",
    "    'Tamil Nadu': 'TN',\n",
    "    'Karnataka': 'KA',\n",
    "    'Andhra Pradesh': 'AP',\n",
    "    'Maharashtra and Goa': ['MH', 'GA'],  \n",
    "    'Delhi': 'DL',\n",
    "    'Madhya Pradesh': 'MP',\n",
    "    'Rajasthan': 'RJ',\n",
    "    'Kerala': 'KL',\n",
    "    'Rest of North': ['PB', 'HR', 'UK'], \n",
    "    'East 1': ['WB', 'OD']  \n",
    "}\n",
    "\n",
    "\n",
    "all_holidays = set()\n",
    "\n",
    "# Looping through state codes and collecting holidays\n",
    "for state, codes in state_codes.items():\n",
    "    codes = codes if isinstance(codes, list) else [codes]\n",
    "    for code in codes:\n",
    "        try:\n",
    "            h = holidays.India(years=years, prov=code)\n",
    "            all_holidays.update(h.keys())\n",
    "        except Exception as e:\n",
    "            print(f\"Skipped {code}: {e}\")\n",
    "\n",
    "# Converting to a set of date objects\n",
    "holiday_dates = set(pd.to_datetime(list(all_holidays)).date)"
   ]
  },
  {
   "cell_type": "code",
   "execution_count": 57,
   "id": "ca40c6e9",
   "metadata": {},
   "outputs": [],
   "source": [
    "for df in (train, test):\n",
    "    df['doj_date'] = pd.to_datetime(df['doj_x'] if 'doj_x' in df else df['doj']).dt.date\n",
    "    df['is_holidays'] = df['doj_date'].apply(lambda x: int(x in holiday_dates))"
   ]
  },
  {
   "cell_type": "code",
   "execution_count": 58,
   "id": "78f41b5b",
   "metadata": {},
   "outputs": [],
   "source": [
    "features.remove('is_holiday')\n",
    "features.append('is_holidays')"
   ]
  },
  {
   "cell_type": "code",
   "execution_count": 59,
   "id": "e7ff6ebe",
   "metadata": {},
   "outputs": [],
   "source": [
    "X = train[features]\n",
    "y = train['final_seatcount']\n",
    "X_train, X_val, y_train, y_val = train_test_split(X, y, test_size=0.20, random_state=42)"
   ]
  },
  {
   "cell_type": "code",
   "execution_count": 60,
   "id": "4292d2d1",
   "metadata": {},
   "outputs": [
    {
     "name": "stdout",
     "output_type": "stream",
     "text": [
      "[LightGBM] [Info] Auto-choosing col-wise multi-threading, the overhead of testing was 0.002053 seconds.\n",
      "You can set `force_col_wise=true` to remove the overhead.\n",
      "[LightGBM] [Info] Total Bins 1269\n",
      "[LightGBM] [Info] Number of data points in the train set: 53760, number of used features: 12\n",
      "[LightGBM] [Info] Start training from score 7.434047\n"
     ]
    },
    {
     "data": {
      "text/html": [
       "<style>#sk-container-id-2 {\n",
       "  /* Definition of color scheme common for light and dark mode */\n",
       "  --sklearn-color-text: black;\n",
       "  --sklearn-color-line: gray;\n",
       "  /* Definition of color scheme for unfitted estimators */\n",
       "  --sklearn-color-unfitted-level-0: #fff5e6;\n",
       "  --sklearn-color-unfitted-level-1: #f6e4d2;\n",
       "  --sklearn-color-unfitted-level-2: #ffe0b3;\n",
       "  --sklearn-color-unfitted-level-3: chocolate;\n",
       "  /* Definition of color scheme for fitted estimators */\n",
       "  --sklearn-color-fitted-level-0: #f0f8ff;\n",
       "  --sklearn-color-fitted-level-1: #d4ebff;\n",
       "  --sklearn-color-fitted-level-2: #b3dbfd;\n",
       "  --sklearn-color-fitted-level-3: cornflowerblue;\n",
       "\n",
       "  /* Specific color for light theme */\n",
       "  --sklearn-color-text-on-default-background: var(--sg-text-color, var(--theme-code-foreground, var(--jp-content-font-color1, black)));\n",
       "  --sklearn-color-background: var(--sg-background-color, var(--theme-background, var(--jp-layout-color0, white)));\n",
       "  --sklearn-color-border-box: var(--sg-text-color, var(--theme-code-foreground, var(--jp-content-font-color1, black)));\n",
       "  --sklearn-color-icon: #696969;\n",
       "\n",
       "  @media (prefers-color-scheme: dark) {\n",
       "    /* Redefinition of color scheme for dark theme */\n",
       "    --sklearn-color-text-on-default-background: var(--sg-text-color, var(--theme-code-foreground, var(--jp-content-font-color1, white)));\n",
       "    --sklearn-color-background: var(--sg-background-color, var(--theme-background, var(--jp-layout-color0, #111)));\n",
       "    --sklearn-color-border-box: var(--sg-text-color, var(--theme-code-foreground, var(--jp-content-font-color1, white)));\n",
       "    --sklearn-color-icon: #878787;\n",
       "  }\n",
       "}\n",
       "\n",
       "#sk-container-id-2 {\n",
       "  color: var(--sklearn-color-text);\n",
       "}\n",
       "\n",
       "#sk-container-id-2 pre {\n",
       "  padding: 0;\n",
       "}\n",
       "\n",
       "#sk-container-id-2 input.sk-hidden--visually {\n",
       "  border: 0;\n",
       "  clip: rect(1px 1px 1px 1px);\n",
       "  clip: rect(1px, 1px, 1px, 1px);\n",
       "  height: 1px;\n",
       "  margin: -1px;\n",
       "  overflow: hidden;\n",
       "  padding: 0;\n",
       "  position: absolute;\n",
       "  width: 1px;\n",
       "}\n",
       "\n",
       "#sk-container-id-2 div.sk-dashed-wrapped {\n",
       "  border: 1px dashed var(--sklearn-color-line);\n",
       "  margin: 0 0.4em 0.5em 0.4em;\n",
       "  box-sizing: border-box;\n",
       "  padding-bottom: 0.4em;\n",
       "  background-color: var(--sklearn-color-background);\n",
       "}\n",
       "\n",
       "#sk-container-id-2 div.sk-container {\n",
       "  /* jupyter's `normalize.less` sets `[hidden] { display: none; }`\n",
       "     but bootstrap.min.css set `[hidden] { display: none !important; }`\n",
       "     so we also need the `!important` here to be able to override the\n",
       "     default hidden behavior on the sphinx rendered scikit-learn.org.\n",
       "     See: https://github.com/scikit-learn/scikit-learn/issues/21755 */\n",
       "  display: inline-block !important;\n",
       "  position: relative;\n",
       "}\n",
       "\n",
       "#sk-container-id-2 div.sk-text-repr-fallback {\n",
       "  display: none;\n",
       "}\n",
       "\n",
       "div.sk-parallel-item,\n",
       "div.sk-serial,\n",
       "div.sk-item {\n",
       "  /* draw centered vertical line to link estimators */\n",
       "  background-image: linear-gradient(var(--sklearn-color-text-on-default-background), var(--sklearn-color-text-on-default-background));\n",
       "  background-size: 2px 100%;\n",
       "  background-repeat: no-repeat;\n",
       "  background-position: center center;\n",
       "}\n",
       "\n",
       "/* Parallel-specific style estimator block */\n",
       "\n",
       "#sk-container-id-2 div.sk-parallel-item::after {\n",
       "  content: \"\";\n",
       "  width: 100%;\n",
       "  border-bottom: 2px solid var(--sklearn-color-text-on-default-background);\n",
       "  flex-grow: 1;\n",
       "}\n",
       "\n",
       "#sk-container-id-2 div.sk-parallel {\n",
       "  display: flex;\n",
       "  align-items: stretch;\n",
       "  justify-content: center;\n",
       "  background-color: var(--sklearn-color-background);\n",
       "  position: relative;\n",
       "}\n",
       "\n",
       "#sk-container-id-2 div.sk-parallel-item {\n",
       "  display: flex;\n",
       "  flex-direction: column;\n",
       "}\n",
       "\n",
       "#sk-container-id-2 div.sk-parallel-item:first-child::after {\n",
       "  align-self: flex-end;\n",
       "  width: 50%;\n",
       "}\n",
       "\n",
       "#sk-container-id-2 div.sk-parallel-item:last-child::after {\n",
       "  align-self: flex-start;\n",
       "  width: 50%;\n",
       "}\n",
       "\n",
       "#sk-container-id-2 div.sk-parallel-item:only-child::after {\n",
       "  width: 0;\n",
       "}\n",
       "\n",
       "/* Serial-specific style estimator block */\n",
       "\n",
       "#sk-container-id-2 div.sk-serial {\n",
       "  display: flex;\n",
       "  flex-direction: column;\n",
       "  align-items: center;\n",
       "  background-color: var(--sklearn-color-background);\n",
       "  padding-right: 1em;\n",
       "  padding-left: 1em;\n",
       "}\n",
       "\n",
       "\n",
       "/* Toggleable style: style used for estimator/Pipeline/ColumnTransformer box that is\n",
       "clickable and can be expanded/collapsed.\n",
       "- Pipeline and ColumnTransformer use this feature and define the default style\n",
       "- Estimators will overwrite some part of the style using the `sk-estimator` class\n",
       "*/\n",
       "\n",
       "/* Pipeline and ColumnTransformer style (default) */\n",
       "\n",
       "#sk-container-id-2 div.sk-toggleable {\n",
       "  /* Default theme specific background. It is overwritten whether we have a\n",
       "  specific estimator or a Pipeline/ColumnTransformer */\n",
       "  background-color: var(--sklearn-color-background);\n",
       "}\n",
       "\n",
       "/* Toggleable label */\n",
       "#sk-container-id-2 label.sk-toggleable__label {\n",
       "  cursor: pointer;\n",
       "  display: block;\n",
       "  width: 100%;\n",
       "  margin-bottom: 0;\n",
       "  padding: 0.5em;\n",
       "  box-sizing: border-box;\n",
       "  text-align: center;\n",
       "}\n",
       "\n",
       "#sk-container-id-2 label.sk-toggleable__label-arrow:before {\n",
       "  /* Arrow on the left of the label */\n",
       "  content: \"▸\";\n",
       "  float: left;\n",
       "  margin-right: 0.25em;\n",
       "  color: var(--sklearn-color-icon);\n",
       "}\n",
       "\n",
       "#sk-container-id-2 label.sk-toggleable__label-arrow:hover:before {\n",
       "  color: var(--sklearn-color-text);\n",
       "}\n",
       "\n",
       "/* Toggleable content - dropdown */\n",
       "\n",
       "#sk-container-id-2 div.sk-toggleable__content {\n",
       "  max-height: 0;\n",
       "  max-width: 0;\n",
       "  overflow: hidden;\n",
       "  text-align: left;\n",
       "  /* unfitted */\n",
       "  background-color: var(--sklearn-color-unfitted-level-0);\n",
       "}\n",
       "\n",
       "#sk-container-id-2 div.sk-toggleable__content.fitted {\n",
       "  /* fitted */\n",
       "  background-color: var(--sklearn-color-fitted-level-0);\n",
       "}\n",
       "\n",
       "#sk-container-id-2 div.sk-toggleable__content pre {\n",
       "  margin: 0.2em;\n",
       "  border-radius: 0.25em;\n",
       "  color: var(--sklearn-color-text);\n",
       "  /* unfitted */\n",
       "  background-color: var(--sklearn-color-unfitted-level-0);\n",
       "}\n",
       "\n",
       "#sk-container-id-2 div.sk-toggleable__content.fitted pre {\n",
       "  /* unfitted */\n",
       "  background-color: var(--sklearn-color-fitted-level-0);\n",
       "}\n",
       "\n",
       "#sk-container-id-2 input.sk-toggleable__control:checked~div.sk-toggleable__content {\n",
       "  /* Expand drop-down */\n",
       "  max-height: 200px;\n",
       "  max-width: 100%;\n",
       "  overflow: auto;\n",
       "}\n",
       "\n",
       "#sk-container-id-2 input.sk-toggleable__control:checked~label.sk-toggleable__label-arrow:before {\n",
       "  content: \"▾\";\n",
       "}\n",
       "\n",
       "/* Pipeline/ColumnTransformer-specific style */\n",
       "\n",
       "#sk-container-id-2 div.sk-label input.sk-toggleable__control:checked~label.sk-toggleable__label {\n",
       "  color: var(--sklearn-color-text);\n",
       "  background-color: var(--sklearn-color-unfitted-level-2);\n",
       "}\n",
       "\n",
       "#sk-container-id-2 div.sk-label.fitted input.sk-toggleable__control:checked~label.sk-toggleable__label {\n",
       "  background-color: var(--sklearn-color-fitted-level-2);\n",
       "}\n",
       "\n",
       "/* Estimator-specific style */\n",
       "\n",
       "/* Colorize estimator box */\n",
       "#sk-container-id-2 div.sk-estimator input.sk-toggleable__control:checked~label.sk-toggleable__label {\n",
       "  /* unfitted */\n",
       "  background-color: var(--sklearn-color-unfitted-level-2);\n",
       "}\n",
       "\n",
       "#sk-container-id-2 div.sk-estimator.fitted input.sk-toggleable__control:checked~label.sk-toggleable__label {\n",
       "  /* fitted */\n",
       "  background-color: var(--sklearn-color-fitted-level-2);\n",
       "}\n",
       "\n",
       "#sk-container-id-2 div.sk-label label.sk-toggleable__label,\n",
       "#sk-container-id-2 div.sk-label label {\n",
       "  /* The background is the default theme color */\n",
       "  color: var(--sklearn-color-text-on-default-background);\n",
       "}\n",
       "\n",
       "/* On hover, darken the color of the background */\n",
       "#sk-container-id-2 div.sk-label:hover label.sk-toggleable__label {\n",
       "  color: var(--sklearn-color-text);\n",
       "  background-color: var(--sklearn-color-unfitted-level-2);\n",
       "}\n",
       "\n",
       "/* Label box, darken color on hover, fitted */\n",
       "#sk-container-id-2 div.sk-label.fitted:hover label.sk-toggleable__label.fitted {\n",
       "  color: var(--sklearn-color-text);\n",
       "  background-color: var(--sklearn-color-fitted-level-2);\n",
       "}\n",
       "\n",
       "/* Estimator label */\n",
       "\n",
       "#sk-container-id-2 div.sk-label label {\n",
       "  font-family: monospace;\n",
       "  font-weight: bold;\n",
       "  display: inline-block;\n",
       "  line-height: 1.2em;\n",
       "}\n",
       "\n",
       "#sk-container-id-2 div.sk-label-container {\n",
       "  text-align: center;\n",
       "}\n",
       "\n",
       "/* Estimator-specific */\n",
       "#sk-container-id-2 div.sk-estimator {\n",
       "  font-family: monospace;\n",
       "  border: 1px dotted var(--sklearn-color-border-box);\n",
       "  border-radius: 0.25em;\n",
       "  box-sizing: border-box;\n",
       "  margin-bottom: 0.5em;\n",
       "  /* unfitted */\n",
       "  background-color: var(--sklearn-color-unfitted-level-0);\n",
       "}\n",
       "\n",
       "#sk-container-id-2 div.sk-estimator.fitted {\n",
       "  /* fitted */\n",
       "  background-color: var(--sklearn-color-fitted-level-0);\n",
       "}\n",
       "\n",
       "/* on hover */\n",
       "#sk-container-id-2 div.sk-estimator:hover {\n",
       "  /* unfitted */\n",
       "  background-color: var(--sklearn-color-unfitted-level-2);\n",
       "}\n",
       "\n",
       "#sk-container-id-2 div.sk-estimator.fitted:hover {\n",
       "  /* fitted */\n",
       "  background-color: var(--sklearn-color-fitted-level-2);\n",
       "}\n",
       "\n",
       "/* Specification for estimator info (e.g. \"i\" and \"?\") */\n",
       "\n",
       "/* Common style for \"i\" and \"?\" */\n",
       "\n",
       ".sk-estimator-doc-link,\n",
       "a:link.sk-estimator-doc-link,\n",
       "a:visited.sk-estimator-doc-link {\n",
       "  float: right;\n",
       "  font-size: smaller;\n",
       "  line-height: 1em;\n",
       "  font-family: monospace;\n",
       "  background-color: var(--sklearn-color-background);\n",
       "  border-radius: 1em;\n",
       "  height: 1em;\n",
       "  width: 1em;\n",
       "  text-decoration: none !important;\n",
       "  margin-left: 1ex;\n",
       "  /* unfitted */\n",
       "  border: var(--sklearn-color-unfitted-level-1) 1pt solid;\n",
       "  color: var(--sklearn-color-unfitted-level-1);\n",
       "}\n",
       "\n",
       ".sk-estimator-doc-link.fitted,\n",
       "a:link.sk-estimator-doc-link.fitted,\n",
       "a:visited.sk-estimator-doc-link.fitted {\n",
       "  /* fitted */\n",
       "  border: var(--sklearn-color-fitted-level-1) 1pt solid;\n",
       "  color: var(--sklearn-color-fitted-level-1);\n",
       "}\n",
       "\n",
       "/* On hover */\n",
       "div.sk-estimator:hover .sk-estimator-doc-link:hover,\n",
       ".sk-estimator-doc-link:hover,\n",
       "div.sk-label-container:hover .sk-estimator-doc-link:hover,\n",
       ".sk-estimator-doc-link:hover {\n",
       "  /* unfitted */\n",
       "  background-color: var(--sklearn-color-unfitted-level-3);\n",
       "  color: var(--sklearn-color-background);\n",
       "  text-decoration: none;\n",
       "}\n",
       "\n",
       "div.sk-estimator.fitted:hover .sk-estimator-doc-link.fitted:hover,\n",
       ".sk-estimator-doc-link.fitted:hover,\n",
       "div.sk-label-container:hover .sk-estimator-doc-link.fitted:hover,\n",
       ".sk-estimator-doc-link.fitted:hover {\n",
       "  /* fitted */\n",
       "  background-color: var(--sklearn-color-fitted-level-3);\n",
       "  color: var(--sklearn-color-background);\n",
       "  text-decoration: none;\n",
       "}\n",
       "\n",
       "/* Span, style for the box shown on hovering the info icon */\n",
       ".sk-estimator-doc-link span {\n",
       "  display: none;\n",
       "  z-index: 9999;\n",
       "  position: relative;\n",
       "  font-weight: normal;\n",
       "  right: .2ex;\n",
       "  padding: .5ex;\n",
       "  margin: .5ex;\n",
       "  width: min-content;\n",
       "  min-width: 20ex;\n",
       "  max-width: 50ex;\n",
       "  color: var(--sklearn-color-text);\n",
       "  box-shadow: 2pt 2pt 4pt #999;\n",
       "  /* unfitted */\n",
       "  background: var(--sklearn-color-unfitted-level-0);\n",
       "  border: .5pt solid var(--sklearn-color-unfitted-level-3);\n",
       "}\n",
       "\n",
       ".sk-estimator-doc-link.fitted span {\n",
       "  /* fitted */\n",
       "  background: var(--sklearn-color-fitted-level-0);\n",
       "  border: var(--sklearn-color-fitted-level-3);\n",
       "}\n",
       "\n",
       ".sk-estimator-doc-link:hover span {\n",
       "  display: block;\n",
       "}\n",
       "\n",
       "/* \"?\"-specific style due to the `<a>` HTML tag */\n",
       "\n",
       "#sk-container-id-2 a.estimator_doc_link {\n",
       "  float: right;\n",
       "  font-size: 1rem;\n",
       "  line-height: 1em;\n",
       "  font-family: monospace;\n",
       "  background-color: var(--sklearn-color-background);\n",
       "  border-radius: 1rem;\n",
       "  height: 1rem;\n",
       "  width: 1rem;\n",
       "  text-decoration: none;\n",
       "  /* unfitted */\n",
       "  color: var(--sklearn-color-unfitted-level-1);\n",
       "  border: var(--sklearn-color-unfitted-level-1) 1pt solid;\n",
       "}\n",
       "\n",
       "#sk-container-id-2 a.estimator_doc_link.fitted {\n",
       "  /* fitted */\n",
       "  border: var(--sklearn-color-fitted-level-1) 1pt solid;\n",
       "  color: var(--sklearn-color-fitted-level-1);\n",
       "}\n",
       "\n",
       "/* On hover */\n",
       "#sk-container-id-2 a.estimator_doc_link:hover {\n",
       "  /* unfitted */\n",
       "  background-color: var(--sklearn-color-unfitted-level-3);\n",
       "  color: var(--sklearn-color-background);\n",
       "  text-decoration: none;\n",
       "}\n",
       "\n",
       "#sk-container-id-2 a.estimator_doc_link.fitted:hover {\n",
       "  /* fitted */\n",
       "  background-color: var(--sklearn-color-fitted-level-3);\n",
       "}\n",
       "</style><div id=\"sk-container-id-2\" class=\"sk-top-container\"><div class=\"sk-text-repr-fallback\"><pre>LGBMRegressor(colsample_bytree=0.8, max_depth=10, n_estimators=300,\n",
       "              random_state=42, subsample=0.8)</pre><b>In a Jupyter environment, please rerun this cell to show the HTML representation or trust the notebook. <br />On GitHub, the HTML representation is unable to render, please try loading this page with nbviewer.org.</b></div><div class=\"sk-container\" hidden><div class=\"sk-item\"><div class=\"sk-estimator fitted sk-toggleable\"><input class=\"sk-toggleable__control sk-hidden--visually\" id=\"sk-estimator-id-2\" type=\"checkbox\" checked><label for=\"sk-estimator-id-2\" class=\"sk-toggleable__label fitted sk-toggleable__label-arrow fitted\">&nbsp;LGBMRegressor<span class=\"sk-estimator-doc-link fitted\">i<span>Fitted</span></span></label><div class=\"sk-toggleable__content fitted\"><pre>LGBMRegressor(colsample_bytree=0.8, max_depth=10, n_estimators=300,\n",
       "              random_state=42, subsample=0.8)</pre></div> </div></div></div></div>"
      ],
      "text/plain": [
       "LGBMRegressor(colsample_bytree=0.8, max_depth=10, n_estimators=300,\n",
       "              random_state=42, subsample=0.8)"
      ]
     },
     "execution_count": 60,
     "metadata": {},
     "output_type": "execute_result"
    }
   ],
   "source": [
    "model.fit(X_train[features], np.log1p(y_train))"
   ]
  },
  {
   "cell_type": "code",
   "execution_count": 61,
   "id": "b46032ec",
   "metadata": {},
   "outputs": [
    {
     "name": "stdout",
     "output_type": "stream",
     "text": [
      "\n",
      " Improved Validation RMSE: 341.96\n",
      "New R²: 0.9200786112303866\n"
     ]
    }
   ],
   "source": [
    "val_preds = np.expm1(model.predict(X_val[features]))\n",
    "rmse = np.sqrt(mean_squared_error(y_val, val_preds))\n",
    "print(f\"\\n Improved Validation RMSE: {rmse:.2f}\")\n",
    "print(\"New R²:\", r2_score(y_val, val_preds))"
   ]
  },
  {
   "cell_type": "code",
   "execution_count": 62,
   "id": "ca1787c8",
   "metadata": {},
   "outputs": [
    {
     "data": {
      "text/plain": [
       "['srcid_x',\n",
       " 'destid_x',\n",
       " 'doj_day',\n",
       " 'doj_weekday',\n",
       " 'doj_month',\n",
       " 'log_cumsum_seatcount',\n",
       " 'log_cumsum_searchcount',\n",
       " 'avg_seatcount_per_route',\n",
       " 'booking_intensity',\n",
       " 'doj_is_weekend',\n",
       " 'prev_day_seatcount',\n",
       " 'is_holidays']"
      ]
     },
     "execution_count": 62,
     "metadata": {},
     "output_type": "execute_result"
    }
   ],
   "source": [
    "features"
   ]
  },
  {
   "cell_type": "code",
   "execution_count": 63,
   "id": "36a7548e",
   "metadata": {},
   "outputs": [],
   "source": [
    "for df in (train, test):\n",
    "    if 'is_holiday' in df.columns:\n",
    "        df.drop(columns=['is_holiday'], inplace=True)"
   ]
  },
  {
   "cell_type": "code",
   "execution_count": null,
   "id": "687677a2",
   "metadata": {},
   "outputs": [],
   "source": []
  },
  {
   "cell_type": "markdown",
   "id": "0a08b468",
   "metadata": {},
   "source": [
    "## Outlier Detection & Removal"
   ]
  },
  {
   "cell_type": "code",
   "execution_count": 64,
   "id": "08972d51",
   "metadata": {},
   "outputs": [
    {
     "data": {
      "image/png": "[encoded data removed]",
      "text/plain": [
       "<Figure size 1000x500 with 1 Axes>"
      ]
     },
     "metadata": {},
     "output_type": "display_data"
    }
   ],
   "source": [
    "import seaborn as sns\n",
    "import matplotlib.pyplot as plt\n",
    "\n",
    "plt.figure(figsize=(10,5))\n",
    "sns.histplot(train['final_seatcount'], bins=100, kde=True)\n",
    "plt.title(\"Distribution of final_seatcount\")\n",
    "plt.show()"
   ]
  },
  {
   "cell_type": "code",
   "execution_count": 65,
   "id": "956733a2",
   "metadata": {},
   "outputs": [
    {
     "name": "stdout",
     "output_type": "stream",
     "text": [
      "Outliers below -482.0, above 4142.0\n"
     ]
    }
   ],
   "source": [
    "Q1 = train['final_seatcount'].quantile(0.25)\n",
    "Q3 = train['final_seatcount'].quantile(0.75)\n",
    "IQR = Q3 - Q1\n",
    "\n",
    "lower_bound = Q1 - 1.5 * IQR\n",
    "upper_bound = Q3 + 1.5 * IQR\n",
    "\n",
    "print(f\"Outliers below {lower_bound}, above {upper_bound}\")"
   ]
  },
  {
   "cell_type": "code",
   "execution_count": 66,
   "id": "a6201fd2",
   "metadata": {},
   "outputs": [],
   "source": [
    "train_clean = train[(train['final_seatcount'] >= lower_bound) & (train['final_seatcount'] <= upper_bound)]"
   ]
  },
  {
   "cell_type": "code",
   "execution_count": 67,
   "id": "4ad65a9e",
   "metadata": {},
   "outputs": [],
   "source": [
    "# Shifting dbd to align previous day's seatcount\n",
    "prev_day_map = transactions.copy()\n",
    "prev_day_map['dbd'] = prev_day_map['dbd'] - 1\n",
    "prev_day_map = prev_day_map[['doj', 'srcid', 'destid', 'dbd', 'cumsum_seatcount']]\n",
    "prev_day_map.rename(columns={'cumsum_seatcount': 'prev_day_seatcount'}, inplace=True)\n",
    "\n",
    "\n",
    "test['doj'] = pd.to_datetime(test['doj_x'])  \n",
    "\n",
    "# Merging with test\n",
    "test = test.merge(\n",
    "    prev_day_map,\n",
    "    left_on=['doj', 'srcid_x', 'destid_x'],\n",
    "    right_on=['doj', 'srcid', 'destid'],\n",
    "    how='left'\n",
    ")\n",
    "\n"
   ]
  },
  {
   "cell_type": "code",
   "execution_count": 68,
   "id": "41893e49",
   "metadata": {},
   "outputs": [],
   "source": [
    "test.drop(columns=['srcid', 'destid'], inplace=True)"
   ]
  },
  {
   "cell_type": "code",
   "execution_count": 69,
   "id": "15f983c8",
   "metadata": {},
   "outputs": [
    {
     "name": "stdout",
     "output_type": "stream",
     "text": [
      "[LightGBM] [Info] Auto-choosing row-wise multi-threading, the overhead of testing was 0.001398 seconds.\n",
      "You can set `force_row_wise=true` to remove the overhead.\n",
      "And if memory is not enough, you can set `force_col_wise=true`.\n",
      "[LightGBM] [Info] Total Bins 1269\n",
      "[LightGBM] [Info] Number of data points in the train set: 50447, number of used features: 12\n",
      "[LightGBM] [Info] Start training from score 7.358748\n",
      "New RMSE: 286.64428544963346\n",
      "New R²: 0.8721134956123426\n"
     ]
    }
   ],
   "source": [
    "X = train_clean[features]\n",
    "y = train_clean['final_seatcount']\n",
    "\n",
    "X_train, X_val, y_train, y_val = train_test_split(X, y, test_size=0.2, random_state=42)\n",
    "\n",
    "model.fit(X_train, np.log1p(y_train))\n",
    "val_preds = np.expm1(model.predict(X_val))\n",
    "\n",
    "print(\"New RMSE:\", np.sqrt(mean_squared_error(y_val, val_preds)))\n",
    "print(\"New R²:\", r2_score(y_val, val_preds))"
   ]
  },
  {
   "cell_type": "code",
   "execution_count": 115,
   "id": "ba791294",
   "metadata": {},
   "outputs": [
    {
     "name": "stdout",
     "output_type": "stream",
     "text": [
      "Final RMSE: 278.156631896349\n",
      "Final R²: 0.879574910309061\n"
     ]
    }
   ],
   "source": [
    "from xgboost import XGBRegressor\n",
    "\n",
    "xgb = XGBRegressor(\n",
    "    n_estimators=300,\n",
    "    max_depth=10,\n",
    "    learning_rate=0.1,\n",
    "    subsample=0.8,\n",
    "    colsample_bytree=0.8,\n",
    "    random_state=42\n",
    ")\n",
    "xgb.fit(X_train, np.log1p(y_train))\n",
    "xgb_preds = np.expm1(xgb.predict(X_val))\n",
    "\n",
    "# Evaluate\n",
    "rmse = np.sqrt(mean_squared_error(y_val, xgb_preds))\n",
    "print(\"Final RMSE:\", rmse)\n",
    "print(\"Final R²:\", r2_score(y_val, xgb_preds))"
   ]
  },
  {
   "cell_type": "code",
   "execution_count": 116,
   "id": "64688e19",
   "metadata": {},
   "outputs": [
    {
     "data": {
      "image/png": "[encoded data removed]",
      "text/plain": [
       "<Figure size 1000x500 with 1 Axes>"
      ]
     },
     "metadata": {},
     "output_type": "display_data"
    }
   ],
   "source": [
    "import seaborn as sns\n",
    "import matplotlib.pyplot as plt\n",
    "\n",
    "plt.figure(figsize=(10,5))\n",
    "sns.histplot(train_clean['final_seatcount'], bins=100, kde=True)\n",
    "plt.title(\"Distribution of final_seatcount\")\n",
    "plt.show()"
   ]
  },
  {
   "cell_type": "code",
   "execution_count": 117,
   "id": "fb38dd8c",
   "metadata": {},
   "outputs": [],
   "source": [
    "# Predict on test_clean and save\n",
    "X_test = test[features]\n",
    "xgb_test_preds = np.expm1(xgb.predict(X_test))\n",
    "test['final_seatcount'] = xgb_test_preds"
   ]
  },
  {
   "cell_type": "markdown",
   "id": "4250b703",
   "metadata": {},
   "source": [
    "#  Final Submission\n",
    "\n",
    "## The final submission is based on XGBoost predictions using all engineered features. We rounded and clipped the output to generate valid integer seat counts, ready for leaderboard evaluation."
   ]
  },
  {
   "cell_type": "code",
   "execution_count": null,
   "id": "34ace0e7",
   "metadata": {},
   "outputs": [],
   "source": [
    "sample = pd.read_csv('sample_submission.csv') \n",
    "# Ensuring yur prediction DataFrame known as 'submission' and 'sample' has the same column names\n",
    "submission = sample.copy()\n",
    "submission = submission.merge(\n",
    "    test[['route_key', 'final_seatcount']],\n",
    "    on='route_key',\n",
    "    how='left'\n",
    ")\n",
    "\n",
    "\n",
    "submission['final_seatcount'] = submission['final_seatcount_y'].round().astype(int)\n",
    "\n",
    "submission['final_seatcount'] = submission['final_seatcount'].fillna(0)\n",
    "\n",
    "\n"
   ]
  },
  {
   "cell_type": "code",
   "execution_count": 119,
   "id": "f86a9535",
   "metadata": {},
   "outputs": [
    {
     "data": {
      "text/html": [
       "<div>\n",
       "<style scoped>\n",
       "    .dataframe tbody tr th:only-of-type {\n",
       "        vertical-align: middle;\n",
       "    }\n",
       "\n",
       "    .dataframe tbody tr th {\n",
       "        vertical-align: top;\n",
       "    }\n",
       "\n",
       "    .dataframe thead th {\n",
       "        text-align: right;\n",
       "    }\n",
       "</style>\n",
       "<table border=\"1\" class=\"dataframe\">\n",
       "  <thead>\n",
       "    <tr style=\"text-align: right;\">\n",
       "      <th></th>\n",
       "      <th>route_key</th>\n",
       "      <th>final_seatcount_x</th>\n",
       "      <th>final_seatcount_y</th>\n",
       "      <th>final_seatcount</th>\n",
       "    </tr>\n",
       "  </thead>\n",
       "  <tbody>\n",
       "    <tr>\n",
       "      <th>0</th>\n",
       "      <td>2025-02-11_46_45</td>\n",
       "      <td>0</td>\n",
       "      <td>133.929031</td>\n",
       "      <td>134</td>\n",
       "    </tr>\n",
       "    <tr>\n",
       "      <th>1</th>\n",
       "      <td>2025-02-11_46_45</td>\n",
       "      <td>0</td>\n",
       "      <td>133.929031</td>\n",
       "      <td>134</td>\n",
       "    </tr>\n",
       "    <tr>\n",
       "      <th>2</th>\n",
       "      <td>2025-02-11_46_45</td>\n",
       "      <td>0</td>\n",
       "      <td>133.929031</td>\n",
       "      <td>134</td>\n",
       "    </tr>\n",
       "    <tr>\n",
       "      <th>3</th>\n",
       "      <td>2025-02-11_46_45</td>\n",
       "      <td>0</td>\n",
       "      <td>133.929031</td>\n",
       "      <td>134</td>\n",
       "    </tr>\n",
       "    <tr>\n",
       "      <th>4</th>\n",
       "      <td>2025-02-11_46_45</td>\n",
       "      <td>0</td>\n",
       "      <td>133.929031</td>\n",
       "      <td>134</td>\n",
       "    </tr>\n",
       "  </tbody>\n",
       "</table>\n",
       "</div>"
      ],
      "text/plain": [
       "          route_key  final_seatcount_x  final_seatcount_y  final_seatcount\n",
       "0  2025-02-11_46_45                  0         133.929031              134\n",
       "1  2025-02-11_46_45                  0         133.929031              134\n",
       "2  2025-02-11_46_45                  0         133.929031              134\n",
       "3  2025-02-11_46_45                  0         133.929031              134\n",
       "4  2025-02-11_46_45                  0         133.929031              134"
      ]
     },
     "execution_count": 119,
     "metadata": {},
     "output_type": "execute_result"
    }
   ],
   "source": [
    "submission.head()"
   ]
  },
  {
   "cell_type": "code",
   "execution_count": 120,
   "id": "890c160a",
   "metadata": {},
   "outputs": [],
   "source": [
    "# Dropping extra columns\n",
    "submission = submission[['route_key', 'final_seatcount']]\n"
   ]
  },
  {
   "cell_type": "code",
   "execution_count": 121,
   "id": "a21a666c",
   "metadata": {},
   "outputs": [
    {
     "data": {
      "text/html": [
       "<div>\n",
       "<style scoped>\n",
       "    .dataframe tbody tr th:only-of-type {\n",
       "        vertical-align: middle;\n",
       "    }\n",
       "\n",
       "    .dataframe tbody tr th {\n",
       "        vertical-align: top;\n",
       "    }\n",
       "\n",
       "    .dataframe thead th {\n",
       "        text-align: right;\n",
       "    }\n",
       "</style>\n",
       "<table border=\"1\" class=\"dataframe\">\n",
       "  <thead>\n",
       "    <tr style=\"text-align: right;\">\n",
       "      <th></th>\n",
       "      <th>route_key</th>\n",
       "      <th>final_seatcount</th>\n",
       "    </tr>\n",
       "  </thead>\n",
       "  <tbody>\n",
       "    <tr>\n",
       "      <th>0</th>\n",
       "      <td>2025-02-11_46_45</td>\n",
       "      <td>134</td>\n",
       "    </tr>\n",
       "    <tr>\n",
       "      <th>1</th>\n",
       "      <td>2025-02-11_46_45</td>\n",
       "      <td>134</td>\n",
       "    </tr>\n",
       "    <tr>\n",
       "      <th>2</th>\n",
       "      <td>2025-02-11_46_45</td>\n",
       "      <td>134</td>\n",
       "    </tr>\n",
       "    <tr>\n",
       "      <th>3</th>\n",
       "      <td>2025-02-11_46_45</td>\n",
       "      <td>134</td>\n",
       "    </tr>\n",
       "    <tr>\n",
       "      <th>4</th>\n",
       "      <td>2025-02-11_46_45</td>\n",
       "      <td>134</td>\n",
       "    </tr>\n",
       "  </tbody>\n",
       "</table>\n",
       "</div>"
      ],
      "text/plain": [
       "          route_key  final_seatcount\n",
       "0  2025-02-11_46_45              134\n",
       "1  2025-02-11_46_45              134\n",
       "2  2025-02-11_46_45              134\n",
       "3  2025-02-11_46_45              134\n",
       "4  2025-02-11_46_45              134"
      ]
     },
     "execution_count": 121,
     "metadata": {},
     "output_type": "execute_result"
    }
   ],
   "source": [
    "submission.head()"
   ]
  },
  {
   "cell_type": "code",
   "execution_count": 122,
   "id": "b7e1d141",
   "metadata": {},
   "outputs": [
    {
     "data": {
      "text/plain": [
       "(182900, 2)"
      ]
     },
     "execution_count": 122,
     "metadata": {},
     "output_type": "execute_result"
    }
   ],
   "source": [
    "submission.shape"
   ]
  },
  {
   "cell_type": "code",
   "execution_count": 123,
   "id": "246dd849",
   "metadata": {},
   "outputs": [],
   "source": [
    "preds = test.groupby('route_key', as_index=False)['final_seatcount'].mean()"
   ]
  },
  {
   "cell_type": "code",
   "execution_count": null,
   "id": "b023a561",
   "metadata": {},
   "outputs": [],
   "source": [
    "# Merging cleanly into the sample\n",
    "submission = sample.merge(preds, on='route_key', how='left')"
   ]
  },
  {
   "cell_type": "code",
   "execution_count": 125,
   "id": "770ed1b6",
   "metadata": {},
   "outputs": [
    {
     "data": {
      "text/html": [
       "<div>\n",
       "<style scoped>\n",
       "    .dataframe tbody tr th:only-of-type {\n",
       "        vertical-align: middle;\n",
       "    }\n",
       "\n",
       "    .dataframe tbody tr th {\n",
       "        vertical-align: top;\n",
       "    }\n",
       "\n",
       "    .dataframe thead th {\n",
       "        text-align: right;\n",
       "    }\n",
       "</style>\n",
       "<table border=\"1\" class=\"dataframe\">\n",
       "  <thead>\n",
       "    <tr style=\"text-align: right;\">\n",
       "      <th></th>\n",
       "      <th>route_key</th>\n",
       "      <th>final_seatcount_x</th>\n",
       "      <th>final_seatcount_y</th>\n",
       "    </tr>\n",
       "  </thead>\n",
       "  <tbody>\n",
       "    <tr>\n",
       "      <th>0</th>\n",
       "      <td>2025-02-11_46_45</td>\n",
       "      <td>0</td>\n",
       "      <td>133.929031</td>\n",
       "    </tr>\n",
       "    <tr>\n",
       "      <th>1</th>\n",
       "      <td>2025-01-20_17_23</td>\n",
       "      <td>0</td>\n",
       "      <td>118.719551</td>\n",
       "    </tr>\n",
       "    <tr>\n",
       "      <th>2</th>\n",
       "      <td>2025-01-08_02_14</td>\n",
       "      <td>0</td>\n",
       "      <td>131.251587</td>\n",
       "    </tr>\n",
       "    <tr>\n",
       "      <th>3</th>\n",
       "      <td>2025-01-08_08_47</td>\n",
       "      <td>0</td>\n",
       "      <td>99.292542</td>\n",
       "    </tr>\n",
       "    <tr>\n",
       "      <th>4</th>\n",
       "      <td>2025-01-08_09_46</td>\n",
       "      <td>0</td>\n",
       "      <td>126.004143</td>\n",
       "    </tr>\n",
       "  </tbody>\n",
       "</table>\n",
       "</div>"
      ],
      "text/plain": [
       "          route_key  final_seatcount_x  final_seatcount_y\n",
       "0  2025-02-11_46_45                  0         133.929031\n",
       "1  2025-01-20_17_23                  0         118.719551\n",
       "2  2025-01-08_02_14                  0         131.251587\n",
       "3  2025-01-08_08_47                  0          99.292542\n",
       "4  2025-01-08_09_46                  0         126.004143"
      ]
     },
     "execution_count": 125,
     "metadata": {},
     "output_type": "execute_result"
    }
   ],
   "source": [
    "submission.head()"
   ]
  },
  {
   "cell_type": "code",
   "execution_count": 126,
   "id": "845d275a",
   "metadata": {},
   "outputs": [],
   "source": [
    "submission['final_seatcount'] = submission['final_seatcount_y'].round().astype(int)\n",
    "submission['final_seatcount'] = submission['final_seatcount'].fillna(0)\n",
    "\n",
    "# Dropping extra columns\n",
    "submission = submission[['route_key', 'final_seatcount']]\n",
    "\n",
    "submission.to_csv('submission_xgb_aligned.csv', index=False)"
   ]
  },
  {
   "cell_type": "code",
   "execution_count": 127,
   "id": "3b7805de",
   "metadata": {},
   "outputs": [
    {
     "data": {
      "text/html": [
       "<div>\n",
       "<style scoped>\n",
       "    .dataframe tbody tr th:only-of-type {\n",
       "        vertical-align: middle;\n",
       "    }\n",
       "\n",
       "    .dataframe tbody tr th {\n",
       "        vertical-align: top;\n",
       "    }\n",
       "\n",
       "    .dataframe thead th {\n",
       "        text-align: right;\n",
       "    }\n",
       "</style>\n",
       "<table border=\"1\" class=\"dataframe\">\n",
       "  <thead>\n",
       "    <tr style=\"text-align: right;\">\n",
       "      <th></th>\n",
       "      <th>route_key</th>\n",
       "      <th>final_seatcount</th>\n",
       "    </tr>\n",
       "  </thead>\n",
       "  <tbody>\n",
       "    <tr>\n",
       "      <th>0</th>\n",
       "      <td>2025-02-11_46_45</td>\n",
       "      <td>134</td>\n",
       "    </tr>\n",
       "    <tr>\n",
       "      <th>1</th>\n",
       "      <td>2025-01-20_17_23</td>\n",
       "      <td>119</td>\n",
       "    </tr>\n",
       "    <tr>\n",
       "      <th>2</th>\n",
       "      <td>2025-01-08_02_14</td>\n",
       "      <td>131</td>\n",
       "    </tr>\n",
       "    <tr>\n",
       "      <th>3</th>\n",
       "      <td>2025-01-08_08_47</td>\n",
       "      <td>99</td>\n",
       "    </tr>\n",
       "    <tr>\n",
       "      <th>4</th>\n",
       "      <td>2025-01-08_09_46</td>\n",
       "      <td>126</td>\n",
       "    </tr>\n",
       "  </tbody>\n",
       "</table>\n",
       "</div>"
      ],
      "text/plain": [
       "          route_key  final_seatcount\n",
       "0  2025-02-11_46_45              134\n",
       "1  2025-01-20_17_23              119\n",
       "2  2025-01-08_02_14              131\n",
       "3  2025-01-08_08_47               99\n",
       "4  2025-01-08_09_46              126"
      ]
     },
     "execution_count": 127,
     "metadata": {},
     "output_type": "execute_result"
    }
   ],
   "source": [
    "submission.head()"
   ]
  },
  {
   "cell_type": "code",
   "execution_count": null,
   "id": "b2d58744",
   "metadata": {},
   "outputs": [],
   "source": []
  },
  {
   "cell_type": "code",
   "execution_count": null,
   "id": "2be06b37",
   "metadata": {},
   "outputs": [],
   "source": []
  },
  {
   "cell_type": "code",
   "execution_count": null,
   "id": "38ca59f7",
   "metadata": {},
   "outputs": [],
   "source": []
  },
  {
   "cell_type": "code",
   "execution_count": null,
   "id": "66a27c23",
   "metadata": {},
   "outputs": [],
   "source": []
  },
  {
   "cell_type": "code",
   "execution_count": null,
   "id": "845baf14",
   "metadata": {},
   "outputs": [],
   "source": []
  },
  {
   "cell_type": "code",
   "execution_count": null,
   "id": "3e066fea",
   "metadata": {},
   "outputs": [],
   "source": []
  },
  {
   "cell_type": "code",
   "execution_count": null,
   "id": "a6568d33",
   "metadata": {},
   "outputs": [],
   "source": []
  },
  {
   "cell_type": "code",
   "execution_count": null,
   "id": "c1db5928",
   "metadata": {},
   "outputs": [],
   "source": []
  },
  {
   "cell_type": "code",
   "execution_count": null,
   "id": "0447fe9f",
   "metadata": {},
   "outputs": [],
   "source": []
  },
  {
   "cell_type": "code",
   "execution_count": null,
   "id": "8ef06ba7",
   "metadata": {},
   "outputs": [],
   "source": []
  },
  {
   "cell_type": "code",
   "execution_count": null,
   "id": "a57c06c4",
   "metadata": {},
   "outputs": [],
   "source": []
  },
  {
   "cell_type": "code",
   "execution_count": null,
   "id": "41ffd4d0",
   "metadata": {},
   "outputs": [],
   "source": []
  },
  {
   "cell_type": "code",
   "execution_count": null,
   "id": "e8018f71",
   "metadata": {},
   "outputs": [],
   "source": []
  },
  {
   "cell_type": "code",
   "execution_count": null,
   "id": "df43f061",
   "metadata": {},
   "outputs": [],
   "source": []
  },
  {
   "cell_type": "code",
   "execution_count": null,
   "id": "0a53f295",
   "metadata": {},
   "outputs": [],
   "source": []
  }
 ],
 "metadata": {
  "kernelspec": {
   "display_name": "Python 3",
   "language": "python",
   "name": "python3"
  },
  "language_info": {
   "codemirror_mode": {
    "name": "ipython",
    "version": 3
   },
   "file_extension": ".py",
   "mimetype": "text/x-python",
   "name": "python",
   "nbconvert_exporter": "python",
   "pygments_lexer": "ipython3",
   "version": "3.10.0"
  }
 },
 "nbformat": 4,
 "nbformat_minor": 5
}
