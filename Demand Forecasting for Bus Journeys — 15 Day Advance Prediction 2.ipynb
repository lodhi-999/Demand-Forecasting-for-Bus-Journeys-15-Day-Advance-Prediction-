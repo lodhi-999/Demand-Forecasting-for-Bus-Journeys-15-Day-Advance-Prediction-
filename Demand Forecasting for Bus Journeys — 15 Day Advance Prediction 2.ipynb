{
 "cells": [
  {
   "cell_type": "code",
   "execution_count": 1,
   "id": "4021e120",
   "metadata": {},
   "outputs": [],
   "source": [
    "## Importing important Libraries\n",
    "import pandas as pd\n",
    "import numpy as np\n",
    "import matplotlib.pyplot as plt\n",
    "import seaborn as sns\n",
    "from sklearn.model_selection import train_test_split\n",
    "from sklearn.metrics import mean_squared_error\n",
    "from sklearn.ensemble import RandomForestRegressor\n",
    "from sklearn.linear_model import Ridge\n",
    "import lightgbm as lgb"
   ]
  },
  {
   "cell_type": "code",
   "execution_count": 2,
   "id": "a1511535",
   "metadata": {},
   "outputs": [],
   "source": [
    "# Loading the Excel file\n",
    "train = pd.read_csv(\"train.csv\")\n",
    "test = pd.read_csv(\"test_8gqdJqH.csv\")\n",
    "transactions = pd.read_csv(\"transactions.csv\")"
   ]
  },
  {
   "cell_type": "code",
   "execution_count": 3,
   "id": "839f4132",
   "metadata": {},
   "outputs": [],
   "source": [
    "\n",
    "train['doj'] = pd.to_datetime(train['doj'])\n",
    "transactions['doj'] = pd.to_datetime(transactions['doj'])\n",
    "\n",
    "train_full = transactions[transactions['dbd'].between(0, 30)].copy()\n",
    "\n",
    "# Merge final seatcount target\n",
    "train_full = train_full.merge(train, on=['doj', 'srcid', 'destid'], how='inner')\n"
   ]
  },
  {
   "cell_type": "code",
   "execution_count": 4,
   "id": "9d65014a",
   "metadata": {},
   "outputs": [],
   "source": [
    "# 2. Feature Engineering\n",
    "# ---------------------------\n",
    "train_full['doj_day'] = train_full['doj'].dt.day\n",
    "train_full['doj_weekday'] = train_full['doj'].dt.weekday\n",
    "train_full['doj_month'] = train_full['doj'].dt.month\n",
    "train_full['doj_is_weekend'] = train_full['doj_weekday'].isin([5, 6]).astype(int)\n",
    "\n",
    "# Log transformation for stability\n",
    "train_full['log_cumsum_seatcount'] = np.log1p(train_full['cumsum_seatcount'])\n",
    "train_full['log_cumsum_searchcount'] = np.log1p(train_full['cumsum_searchcount'])\n",
    "train_full['booking_intensity'] = train_full['cumsum_seatcount'] / (train_full['cumsum_searchcount'] + 1)"
   ]
  },
  {
   "cell_type": "code",
   "execution_count": 5,
   "id": "4691f53a",
   "metadata": {},
   "outputs": [],
   "source": [
    "features = [\n",
    "    'srcid', 'destid', 'doj_day', 'doj_weekday', 'doj_month',\n",
    "    'doj_is_weekend', 'log_cumsum_seatcount', 'log_cumsum_searchcount',\n",
    "    'booking_intensity'  # Add other engineered features\n",
    "]\n",
    "\n",
    "\n",
    "X = train_full[features]\n",
    "y = train_full['final_seatcount']"
   ]
  },
  {
   "cell_type": "code",
   "execution_count": 6,
   "id": "4f050524",
   "metadata": {},
   "outputs": [
    {
     "name": "stdout",
     "output_type": "stream",
     "text": [
      "[LightGBM] [Info] Auto-choosing col-wise multi-threading, the overhead of testing was 0.037426 seconds.\n",
      "You can set `force_col_wise=true` to remove the overhead.\n",
      "[LightGBM] [Info] Total Bins 911\n",
      "[LightGBM] [Info] Number of data points in the train set: 1666560, number of used features: 9\n",
      "[LightGBM] [Info] Start training from score 7.434467\n",
      "Validation RMSE: 559.96\n",
      "Validation R2: 0.7811\n"
     ]
    }
   ],
   "source": [
    "from lightgbm import LGBMRegressor\n",
    "from sklearn.metrics import mean_squared_error, mean_absolute_error, r2_score\n",
    "\n",
    "\n",
    "X_train, X_val, y_train, y_val = train_test_split(X, y, test_size=0.2, random_state=42)\n",
    "\n",
    "model = LGBMRegressor(\n",
    "    learning_rate=0.1,\n",
    "    n_estimators=300,\n",
    "    max_depth=10,\n",
    "    num_leaves=31,\n",
    "    random_state=42\n",
    ")\n",
    "\n",
    "model.fit(X_train, np.log1p(y_train))\n",
    "val_preds = np.expm1(model.predict(X_val))\n",
    "\n",
    "rmse = np.sqrt(mean_squared_error(y_val, val_preds))\n",
    "r2 = r2_score(y_val, val_preds)\n",
    "\n",
    "print(f\"Validation RMSE: {rmse:.2f}\")\n",
    "print(f\"Validation R2: {r2:.4f}\")\n"
   ]
  },
  {
   "cell_type": "code",
   "execution_count": 7,
   "id": "a8851a56",
   "metadata": {},
   "outputs": [
    {
     "name": "stdout",
     "output_type": "stream",
     "text": [
      "Outliers below -482.0, above 4142.0\n"
     ]
    }
   ],
   "source": [
    "Q1 = train_full['final_seatcount'].quantile(0.25)\n",
    "Q3 = train_full['final_seatcount'].quantile(0.75)\n",
    "IQR = Q3 - Q1\n",
    "\n",
    "lower_bound = Q1 - 1.5 * IQR\n",
    "upper_bound = Q3 + 1.5 * IQR\n",
    "\n",
    "print(f\"Outliers below {lower_bound}, above {upper_bound}\")"
   ]
  },
  {
   "cell_type": "code",
   "execution_count": 8,
   "id": "2525176d",
   "metadata": {},
   "outputs": [],
   "source": [
    "train_clean = train_full[(train_full['final_seatcount'] >= lower_bound) & (train_full['final_seatcount'] <= upper_bound)]"
   ]
  },
  {
   "cell_type": "code",
   "execution_count": 9,
   "id": "3e635f06",
   "metadata": {},
   "outputs": [
    {
     "name": "stdout",
     "output_type": "stream",
     "text": [
      "[LightGBM] [Info] Auto-choosing row-wise multi-threading, the overhead of testing was 0.009051 seconds.\n",
      "You can set `force_row_wise=true` to remove the overhead.\n",
      "And if memory is not enough, you can set `force_col_wise=true`.\n",
      "[LightGBM] [Info] Total Bins 911\n",
      "[LightGBM] [Info] Number of data points in the train set: 1666560, number of used features: 9\n",
      "[LightGBM] [Info] Start training from score 7.434467\n",
      "New RMSE: 559.962689260778\n",
      "New R²: 0.7811429169946631\n"
     ]
    }
   ],
   "source": [
    "X = train_full[features]\n",
    "y = train_full['final_seatcount']\n",
    "\n",
    "X_train, X_val, y_train, y_val = train_test_split(X, y, test_size=0.2, random_state=42)\n",
    "\n",
    "model.fit(X_train, np.log1p(y_train))\n",
    "val_preds = np.expm1(model.predict(X_val))\n",
    "\n",
    "print(\"New RMSE:\", np.sqrt(mean_squared_error(y_val, val_preds)))\n",
    "print(\"New R²:\", r2_score(y_val, val_preds))"
   ]
  },
  {
   "cell_type": "code",
   "execution_count": 10,
   "id": "553de1e1",
   "metadata": {},
   "outputs": [
    {
     "data": {
      "text/plain": [
       "(1954829, 19)"
      ]
     },
     "execution_count": 10,
     "metadata": {},
     "output_type": "execute_result"
    }
   ],
   "source": [
    "train_clean.shape"
   ]
  },
  {
   "cell_type": "code",
   "execution_count": 10,
   "id": "598afca3",
   "metadata": {},
   "outputs": [
    {
     "data": {
      "image/png": "[encoded data removed]",
      "text/plain": [
       "<Figure size 1000x500 with 1 Axes>"
      ]
     },
     "metadata": {},
     "output_type": "display_data"
    }
   ],
   "source": [
    "import seaborn as sns\n",
    "import matplotlib.pyplot as plt\n",
    "\n",
    "plt.figure(figsize=(10,5))\n",
    "sns.histplot(train_clean['final_seatcount'], bins=100, kde=True)\n",
    "plt.title(\"Distribution of final_seatcount\")\n",
    "plt.show()"
   ]
  },
  {
   "cell_type": "code",
   "execution_count": 11,
   "id": "c9958185",
   "metadata": {},
   "outputs": [],
   "source": [
    "# ---------------------------\n",
    "# 5. Predict on test dbd = 15\n",
    "# ---------------------------\n",
    "test_15 = transactions[transactions['dbd'] == 15].copy()\n",
    "test_15['doj'] = pd.to_datetime(test_15['doj'])\n",
    "\n",
    "# Apply same features\n",
    "test_15['doj_day'] = test_15['doj'].dt.day\n",
    "test_15['doj_weekday'] = test_15['doj'].dt.weekday\n",
    "test_15['doj_month'] = test_15['doj'].dt.month\n",
    "test_15['doj_is_weekend'] = test_15['doj_weekday'].isin([5, 6]).astype(int)\n",
    "test_15['log_cumsum_seatcount'] = np.log1p(test_15['cumsum_seatcount'])\n",
    "test_15['log_cumsum_searchcount'] = np.log1p(test_15['cumsum_searchcount'])\n",
    "test_15['booking_intensity'] = test_15['cumsum_seatcount'] / (test_15['cumsum_searchcount'] + 1)\n"
   ]
  },
  {
   "cell_type": "code",
   "execution_count": null,
   "id": "7b19f4f7",
   "metadata": {},
   "outputs": [],
   "source": [
    "# Predict\n",
    "final_preds = np.expm1(model.predict(test_15[features]))\n",
    "test_15['final_seatcount'] = final_preds\n",
    "\n",
    "# Output submission file\n",
    "submission = test_15[['route_key', 'final_seatcount']]\n",
    "submission.to_csv('submission.csv', index=False)\n",
    "print(\"✅ Submission file saved.\")"
   ]
  },
  {
   "cell_type": "code",
   "execution_count": null,
   "id": "b595ca32",
   "metadata": {},
   "outputs": [],
   "source": []
  },
  {
   "cell_type": "code",
   "execution_count": null,
   "id": "1d75a861",
   "metadata": {},
   "outputs": [],
   "source": []
  },
  {
   "cell_type": "code",
   "execution_count": null,
   "id": "41ad37bf",
   "metadata": {},
   "outputs": [],
   "source": []
  },
  {
   "cell_type": "code",
   "execution_count": null,
   "id": "1060c0c8",
   "metadata": {},
   "outputs": [],
   "source": []
  },
  {
   "cell_type": "code",
   "execution_count": null,
   "id": "3cbd2580",
   "metadata": {},
   "outputs": [],
   "source": []
  },
  {
   "cell_type": "code",
   "execution_count": null,
   "id": "4e715352",
   "metadata": {},
   "outputs": [],
   "source": []
  },
  {
   "cell_type": "code",
   "execution_count": null,
   "id": "cd874658",
   "metadata": {},
   "outputs": [],
   "source": []
  }
 ],
 "metadata": {
  "kernelspec": {
   "display_name": "Python 3",
   "language": "python",
   "name": "python3"
  },
  "language_info": {
   "codemirror_mode": {
    "name": "ipython",
    "version": 3
   },
   "file_extension": ".py",
   "mimetype": "text/x-python",
   "name": "python",
   "nbconvert_exporter": "python",
   "pygments_lexer": "ipython3",
   "version": "3.10.0"
  }
 },
 "nbformat": 4,
 "nbformat_minor": 5
}
